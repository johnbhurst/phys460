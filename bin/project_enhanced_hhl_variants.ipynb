{
 "cells": [
  {
   "cell_type": "markdown",
   "metadata": {},
   "source": [
    "# Enhanced HHL Variants\n",
    "\n",
    "This notebook explores some variants of HHL based on these papers:\n",
    "\n",
    "* HHL (TODO: reference)\n",
    "* Lee, Joo, Lee (TODO: reference)\n",
    "* Morgan, Ghysels, Mohamadbagherpoor (TODO: reference)\n",
    "\n",
    "See in particular [Jack Morgan's GitHub repository](https://github.com/jackhmorgan/Enhanced-Hybrid-HHL)."
   ]
  },
  {
   "cell_type": "code",
   "execution_count": 7,
   "metadata": {},
   "outputs": [],
   "source": [
    "import numpy as np\n",
    "from qiskit import ClassicalRegister, QuantumCircuit, QuantumRegister, transpile\n",
    "from qiskit.circuit.library import ExactReciprocal, HamiltonianGate, PhaseEstimation, StatePreparation\n",
    "from qiskit.quantum_info import Statevector\n",
    "from qiskit_aer import AerSimulator"
   ]
  },
  {
   "cell_type": "code",
   "execution_count": 9,
   "metadata": {},
   "outputs": [
    {
     "name": "stdout",
     "output_type": "stream",
     "text": [
      "{'1 1': 31, '0 0': 459, '0 1': 534}\n"
     ]
    }
   ],
   "source": [
    "def create_swap_test_circuit(num_state_qubits):\n",
    "    num_qubits = 2 * num_state_qubits + 1\n",
    "    result = QuantumCircuit(num_qubits)\n",
    "    result.h(-1)\n",
    "    for i in range(num_state_qubits):\n",
    "        result.cswap(-1, i, num_state_qubits + i)\n",
    "    result.h(-1)\n",
    "    return result\n",
    "\n",
    "def get_ideal_x_statevector(A, b):\n",
    "    x = np.linalg.solve(A, b)\n",
    "    x_norm = np.linalg.norm(x)\n",
    "    x_state = x/x_norm\n",
    "    return Statevector(x_state)\n",
    "\n",
    "π = np.pi\n",
    "λ = 1/4\n",
    "maxλ = 1\n",
    "num_clock_qubits = 3\n",
    "scale = abs((0.5-2**-num_clock_qubits)/maxλ)\n",
    "A = np.array([[ 1/2 , λ-1/2],[λ-1/2,  1/2 ]])\n",
    "b = np.array([[1.], [0.]])\n",
    "\n",
    "hamiltonian_simulation = HamiltonianGate(A, -2 * π * scale)\n",
    "state_preparation = StatePreparation(Statevector(b))\n",
    "qpe = PhaseEstimation(num_clock_qubits, hamiltonian_simulation)\n",
    "eigenvalue_inversion = ExactReciprocal(num_clock_qubits, 2*2**-num_clock_qubits, neg_vals=True)\n",
    "flag = QuantumRegister(1)\n",
    "clock_reg = QuantumRegister(num_clock_qubits)\n",
    "b_reg = QuantumRegister(qpe.num_qubits - num_clock_qubits)\n",
    "c_reg = ClassicalRegister(1)\n",
    "circuit = QuantumCircuit(flag, clock_reg, b_reg, c_reg)\n",
    "circuit.append(state_preparation, b_reg)\n",
    "circuit.append(qpe, clock_reg[:] + b_reg[:])\n",
    "circuit.append(eigenvalue_inversion, clock_reg[::-1]+[flag[0]])\n",
    "circuit.measure(0, 0)\n",
    "with circuit.if_test((0,1)) as passed:\n",
    "    circuit.append(qpe.inverse(), clock_reg[:] + b_reg[:])\n",
    "num_b_qubits = int(np.log2(b.size))\n",
    "st_circuit = create_swap_test_circuit(num_b_qubits)\n",
    "q_reg = QuantumRegister(st_circuit.num_qubits - num_b_qubits)\n",
    "c2_reg = ClassicalRegister(1)\n",
    "circuit.add_register(q_reg)\n",
    "circuit.add_register(c2_reg)\n",
    "ideal_x_statevector = get_ideal_x_statevector(A, b)\n",
    "with circuit.if_test((0,1)) as passed:\n",
    "    circuit.prepare_state(ideal_x_statevector, q_reg[:-1])\n",
    "    circuit.append(st_circuit, range(-st_circuit.num_qubits, 0))\n",
    "    circuit.measure(-1, c2_reg[0])\n",
    "\n",
    "backend = AerSimulator()\n",
    "transpiled_circuit = transpile(circuit, backend)\n",
    "job = backend.run(transpiled_circuit)\n",
    "counts = job.result().get_counts()\n",
    "print(counts)\n"
   ]
  }
 ],
 "metadata": {
  "kernelspec": {
   "display_name": "venv",
   "language": "python",
   "name": "python3"
  },
  "language_info": {
   "codemirror_mode": {
    "name": "ipython",
    "version": 3
   },
   "file_extension": ".py",
   "mimetype": "text/x-python",
   "name": "python",
   "nbconvert_exporter": "python",
   "pygments_lexer": "ipython3",
   "version": "3.10.12"
  }
 },
 "nbformat": 4,
 "nbformat_minor": 2
}
