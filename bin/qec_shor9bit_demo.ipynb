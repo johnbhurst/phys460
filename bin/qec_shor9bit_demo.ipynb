{
 "cells": [
  {
   "cell_type": "markdown",
   "metadata": {},
   "source": [
    "# Shor 9-Qubit Quantum Error Correction Code\n",
    "\n",
    "This notebook demonstrates the Shor 9-Qubit Quantum Error Correction Code from chapter 12."
   ]
  },
  {
   "cell_type": "code",
   "execution_count": 3,
   "metadata": {},
   "outputs": [],
   "source": [
    "# Imports\n",
    "\n",
    "import math\n",
    "from ipywidgets import interact\n",
    "from qiskit_aer import AerSimulator\n",
    "from qiskit_ibm_runtime import SamplerV2 as Sampler\n",
    "from qiskit.circuit import  ClassicalRegister, QuantumCircuit, QuantumRegister\n",
    "from qiskit.circuit.library.standard_gates import ZGate\n",
    "from qiskit.quantum_info import random_unitary\n",
    "from qiskit.transpiler.preset_passmanagers import generate_preset_pass_manager"
   ]
  },
  {
   "cell_type": "code",
   "execution_count": 4,
   "metadata": {},
   "outputs": [],
   "source": [
    "def create_circuit(ry=0.0, unitaryop=None, xbit=-1, zbit=-1, randombit=-1, deferred=True):\n",
    "    q = [q1, q2, q3, q4, q5, q6, q7, q8, q9] = QuantumRegister(9, name='q')\n",
    "    a = [a1, a2, a3, a4, a5, a6, a7, a8] = QuantumRegister(8, name='a')\n",
    "    o = ClassicalRegister(9, name='output')\n",
    "    s = [s1, s2, s3, s4, s5, s6, s7, s8] = ClassicalRegister(8, name='syndrome')\n",
    "    circuit = QuantumCircuit(q, a, o, s)\n",
    "\n",
    "    if ry != 0.0:\n",
    "        circuit.ry(ry, q1)\n",
    "    # encode phase flip\n",
    "    circuit.cx(q1, q4)\n",
    "    circuit.cx(q1, q7)\n",
    "    circuit.h([q1, q4, q7])\n",
    "    # encode bit flips\n",
    "    circuit.cx(q1, q2)\n",
    "    circuit.cx(q1, q3)\n",
    "    circuit.cx(q4, q5)\n",
    "    circuit.cx(q4, q6)\n",
    "    circuit.cx(q7, q8)\n",
    "    circuit.cx(q7, q9)\n",
    "    circuit.barrier()\n",
    "    if unitaryop == 'X':\n",
    "        circuit.z(q1)\n",
    "        circuit.z(q4)\n",
    "        circuit.z(q7)\n",
    "    if unitaryop == 'Z':\n",
    "        circuit.x(q1)\n",
    "        circuit.x(q2)\n",
    "        circuit.x(q3)\n",
    "    circuit.barrier()\n",
    "    if xbit != -1:\n",
    "        circuit.x(q[xbit])\n",
    "    if zbit != -1:\n",
    "        circuit.z(q[zbit])\n",
    "    if randombit != -1:\n",
    "        random_rotation = random_unitary(2)\n",
    "        circuit.append(random_rotation, [q[randombit]])\n",
    "    circuit.barrier()\n",
    "    # bit flips correction\n",
    "    circuit.cx(q1, a1)\n",
    "    circuit.cx(q2, a1)\n",
    "    circuit.cx(q1, a2)\n",
    "    circuit.cx(q3, a2)\n",
    "    circuit.barrier()\n",
    "    circuit.cx(q4, a3)\n",
    "    circuit.cx(q5, a3)\n",
    "    circuit.cx(q4, a4)\n",
    "    circuit.cx(q6, a4)\n",
    "    circuit.barrier()\n",
    "    circuit.cx(q7, a5)\n",
    "    circuit.cx(q8, a5)\n",
    "    circuit.cx(q7, a6)\n",
    "    circuit.cx(q9, a6)\n",
    "    circuit.barrier()\n",
    "    if not deferred:\n",
    "        circuit.measure([a1, a2, a3, a4, a5, a6], [s1, s2, s3, s4, s5, s6])\n",
    "        with circuit.if_test((s1, 1)):\n",
    "            with circuit.if_test((s2, 1)):\n",
    "                circuit.x(q1)\n",
    "        with circuit.if_test((s1, 1)):\n",
    "            with circuit.if_test((s2, 0)):\n",
    "                circuit.x(q2)\n",
    "        with circuit.if_test((s1, 0)):\n",
    "            with circuit.if_test((s2, 1)):\n",
    "                circuit.x(q3)\n",
    "        circuit.barrier()\n",
    "        with circuit.if_test((s3, 1)):\n",
    "            with circuit.if_test((s4, 1)):\n",
    "                circuit.x(q4)\n",
    "        with circuit.if_test((s3, 1)):\n",
    "            with circuit.if_test((s4, 0)):\n",
    "                circuit.x(q5)\n",
    "        with circuit.if_test((s3, 0)):\n",
    "            with circuit.if_test((s4, 1)):\n",
    "                circuit.x(q6)\n",
    "        circuit.barrier()\n",
    "        with circuit.if_test((s5, 1)):\n",
    "            with circuit.if_test((s6, 1)):\n",
    "                circuit.x(q7)\n",
    "        with circuit.if_test((s5, 1)):\n",
    "            with circuit.if_test((s6, 0)):\n",
    "                circuit.x(q8)\n",
    "        with circuit.if_test((s5, 0)):\n",
    "            with circuit.if_test((s6, 1)):\n",
    "                circuit.x(q9)\n",
    "        circuit.barrier()\n",
    "    else:\n",
    "        circuit.mcx([a2, a1], q1, ctrl_state=0b11)\n",
    "        circuit.mcx([a2, a1], q2, ctrl_state=0b10)\n",
    "        circuit.mcx([a2, a1], q3, ctrl_state=0b01)\n",
    "        circuit.barrier()\n",
    "        circuit.mcx([a4, a3], q4, ctrl_state=0b11)\n",
    "        circuit.mcx([a4, a3], q5, ctrl_state=0b10)\n",
    "        circuit.mcx([a4, a3], q6, ctrl_state=0b01)\n",
    "        circuit.barrier()\n",
    "        circuit.mcx([a6, a5], q7, ctrl_state=0b11)\n",
    "        circuit.mcx([a6, a5], q8, ctrl_state=0b10)\n",
    "        circuit.mcx([a6, a5], q9, ctrl_state=0b01)\n",
    "        circuit.barrier()\n",
    "    # decode bitflips: note this is in a different order from the first edition of the book.\n",
    "    circuit.cx(q7, q9)\n",
    "    circuit.cx(q7, q8)\n",
    "    circuit.cx(q4, q6)\n",
    "    circuit.cx(q4, q5)\n",
    "    circuit.cx(q1, q3)\n",
    "    circuit.cx(q1, q2)\n",
    "    circuit.barrier()\n",
    "    # phase flip correction\n",
    "    circuit.h([q1, q4, q7])\n",
    "    circuit.cx(q1, a7)\n",
    "    circuit.cx(q4, a7)\n",
    "    circuit.cx(q1, a8)\n",
    "    circuit.cx(q7, a8)\n",
    "    circuit.barrier()\n",
    "    circuit.h([q1, q4, q7])\n",
    "    if not deferred:\n",
    "        circuit.measure([a7, a8], [s7, s8])\n",
    "        with circuit.if_test((s7, 1)):\n",
    "            with circuit.if_test((s8, 1)):\n",
    "                circuit.z(q1)\n",
    "        with circuit.if_test((s7, 1)):\n",
    "            with circuit.if_test((s8, 0)):\n",
    "                circuit.z(q4)\n",
    "        with circuit.if_test((s7, 0)):\n",
    "            with circuit.if_test((s8, 1)):\n",
    "                circuit.z(q7)\n",
    "        circuit.barrier()\n",
    "    else:\n",
    "        circuit.append(ZGate().control(num_ctrl_qubits=2, ctrl_state=0b11), [a8, a7, q1])\n",
    "        circuit.append(ZGate().control(num_ctrl_qubits=2, ctrl_state=0b10), [a8, a7, q4])\n",
    "        circuit.append(ZGate().control(num_ctrl_qubits=2, ctrl_state=0b01), [a8, a7, q7])\n",
    "        circuit.barrier()\n",
    "    # decode phase flip\n",
    "    circuit.h([q1, q4, q7])\n",
    "    circuit.cx(q1, q7)\n",
    "    circuit.cx(q1, q4)\n",
    "    circuit.barrier()\n",
    "    circuit.measure(q, o)\n",
    "    if deferred:\n",
    "        circuit.measure(a, s)\n",
    "    return circuit"
   ]
  },
  {
   "cell_type": "markdown",
   "metadata": {},
   "source": [
    "# Circuit diagram\n",
    "\n",
    "The cell below displays variants of the circuit diagram of the Shor 9-Qubit Quantum Error Correction Code\n",
    "\n",
    "You can experiment with these parameters:\n",
    "\n",
    "* `rx`: The RX angle for the initialization state.\n",
    "* `unitaryop`: The logical unitary operation to apply to the encoded state: None, $X_L$, or $Z_L$.\n",
    "* `xbit`: Flip a qubit with an $X$ gate: -1 = no flip, 0-8 = flip qubit 0-8.\n",
    "* `zbit`: Flip a qubit with a $Z$ gate: -1 = no flip, 0-8 = flip qubit 0-8.\n",
    "* `randombit`: Apply a random rotation to a qubit: -1 = no rotation, 0-8 = rotate qubit 0-8.\n",
    "* `deferred`: Build the circuit with deferred measurement, or not.\n",
    "\n",
    "Remember, the Shor 9-bit code can correct an arbitrary error on only a single qubit!"
   ]
  },
  {
   "cell_type": "code",
   "execution_count": 5,
   "metadata": {},
   "outputs": [
    {
     "data": {
      "application/vnd.jupyter.widget-view+json": {
       "model_id": "3befd5c7d0c247159393b04f2b9fef2e",
       "version_major": 2,
       "version_minor": 0
      },
      "text/plain": [
       "interactive(children=(FloatSlider(value=0.0, description='rx', max=3.141592653589793), Dropdown(description='u…"
      ]
     },
     "metadata": {},
     "output_type": "display_data"
    },
    {
     "data": {
      "text/plain": [
       "<function __main__.draw_circuit(rx=0.0, unitaryop=None, xbit=-1, zbit=-1, randombit=-1, deferred=True)>"
      ]
     },
     "execution_count": 5,
     "metadata": {},
     "output_type": "execute_result"
    }
   ],
   "source": [
    "def draw_circuit(rx=0.0, unitaryop=None, xbit=-1, zbit=-1, randombit=-1, deferred=True):\n",
    "    circuit = create_circuit(rx, unitaryop, xbit, zbit, randombit, deferred)\n",
    "    display(circuit.draw(output=\"mpl\", fold=-1, plot_barriers=False, cregbundle=True))\n",
    "\n",
    "interact(draw_circuit, rx=(0.0, math.pi, 0.1), unitaryop=[None, 'X', 'Z'], xbit=(-1, 8), zbit=(-1, 8), randombit=(-1, 8), deferred=True)"
   ]
  },
  {
   "cell_type": "markdown",
   "metadata": {},
   "source": [
    "# Circuit results\n",
    "\n",
    "The cell below displays the results of running the Shor 9-Qubit Quantum Error Correction Code circuit.\n",
    "\n",
    "You can experiment with the same parameters as above."
   ]
  },
  {
   "cell_type": "code",
   "execution_count": 6,
   "metadata": {},
   "outputs": [
    {
     "data": {
      "application/vnd.jupyter.widget-view+json": {
       "model_id": "492ef49df5a844bb9ca7c3621f78eeba",
       "version_major": 2,
       "version_minor": 0
      },
      "text/plain": [
       "interactive(children=(FloatSlider(value=0.0, description='rx', max=3.141592653589793), Dropdown(description='u…"
      ]
     },
     "metadata": {},
     "output_type": "display_data"
    },
    {
     "data": {
      "text/plain": [
       "<function __main__.run_circuit(rx=0.0, unitaryop=None, xbit=-1, zbit=-1, randombit=-1, deferred=True)>"
      ]
     },
     "execution_count": 6,
     "metadata": {},
     "output_type": "execute_result"
    }
   ],
   "source": [
    "def run_circuit(rx=0.0, unitaryop=None, xbit=-1, zbit=-1, randombit=-1, deferred=True):\n",
    "    circuit = create_circuit(rx, unitaryop, xbit, zbit, randombit, deferred)\n",
    "    backend = AerSimulator()\n",
    "    pm = generate_preset_pass_manager(backend=backend, optimization_level=1)\n",
    "    circuit = pm.run(circuit)\n",
    "    sampler = Sampler(backend)\n",
    "    job = sampler.run([circuit], shots=1000)\n",
    "    result = job.result()\n",
    "\n",
    "    syndrome_counts = result[0].data.syndrome.get_counts()\n",
    "    if randombit == -1:\n",
    "        assert len(syndrome_counts) == 1\n",
    "    print(\"Syndromes:\")\n",
    "    for bits, val in sorted(syndrome_counts.items()):\n",
    "        print(f\"{bits}\\t{val}\")\n",
    "    output_counts = result[0].data.output.get_counts()\n",
    "    print(\"Output:\")\n",
    "    for bits, val in sorted(output_counts.items()):\n",
    "        assert bits[0:8] == \"00000000\"\n",
    "        bit = bits[8]\n",
    "        print(f\"{bit}\\t{val}\")\n",
    "\n",
    "interact(run_circuit, rx=(0.0, math.pi, 0.1), unitaryop=[None, 'X', 'Z'], xbit=(-1, 8), zbit=(-1, 8), randombit=(-1, 8), deferred=True)"
   ]
  },
  {
   "cell_type": "code",
   "execution_count": null,
   "metadata": {},
   "outputs": [],
   "source": []
  }
 ],
 "metadata": {
  "kernelspec": {
   "display_name": "venv",
   "language": "python",
   "name": "python3"
  },
  "language_info": {
   "codemirror_mode": {
    "name": "ipython",
    "version": 3
   },
   "file_extension": ".py",
   "mimetype": "text/x-python",
   "name": "python",
   "nbconvert_exporter": "python",
   "pygments_lexer": "ipython3",
   "version": "3.10.12"
  }
 },
 "nbformat": 4,
 "nbformat_minor": 2
}
