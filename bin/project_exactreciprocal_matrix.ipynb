{
 "cells": [
  {
   "cell_type": "markdown",
   "metadata": {},
   "source": [
    "# Qiskit ExactReciprocal: Matrix for HHL\n",
    "\n",
    "This notebook computes the Qiskit ExactReciprocal component on all basis states for certain numbers of clock qubits, \n",
    "from which we can determine the matrix form of the component.\n",
    "\n",
    "For the HHL algorithm, as implemented in Jack Morgan's code, we use `neg_vals=True`, and also set `scaling` as $2\\times 2^{-n}$, where $n$ is the number of clock qubits.\n",
    "\n",
    "## See also:\n",
    "\n",
    "* [Qiskit ExactReciprocal documentation](https://docs.quantum.ibm.com/api/qiskit/qiskit.circuit.library.ExactReciprocal)\n",
    "* [Jack Morgan's Enhanced HHL code](https://github.com/jackhmorgan/Enhanced-Hybrid-HHL)"
   ]
  },
  {
   "cell_type": "code",
   "execution_count": 11,
   "metadata": {},
   "outputs": [],
   "source": [
    "import numpy as np\n",
    "from IPython.display import display, Markdown\n",
    "from math import log2\n",
    "from qiskit import QuantumCircuit, QuantumRegister, transpile\n",
    "from qiskit_aer import Aer\n",
    "from qiskit.circuit.library import ExactReciprocal, StatePreparation\n",
    "from qiskit.quantum_info import Statevector\n",
    "\n",
    "\n",
    "def create_input_circuit(input):\n",
    "    x = np.array(input) / np.linalg.norm(input)\n",
    "    num_qubits = int(log2(x.size))\n",
    "    state_preparation = StatePreparation(Statevector(x))\n",
    "    x_reg = QuantumRegister(num_qubits, 'x')\n",
    "    circuit = QuantumCircuit(x_reg)\n",
    "    circuit.append(state_preparation, x_reg)\n",
    "    return circuit\n",
    "\n",
    "\n",
    "def create_exact_reciprocal_circuit(input, neg_vals=False):\n",
    "    x = np.array(input) / np.linalg.norm(input)\n",
    "    num_qubits = int(log2(x.size))\n",
    "    scaling = 2**(1-num_qubits)\n",
    "    state_preparation = StatePreparation(Statevector(x))\n",
    "    x_reg = QuantumRegister(num_qubits, 'x')\n",
    "    circuit = QuantumCircuit(x_reg)\n",
    "    circuit.append(state_preparation, x_reg)\n",
    "    exact_reciprocal = ExactReciprocal(num_state_qubits=num_qubits-1, scaling=scaling, neg_vals=neg_vals)\n",
    "    circuit.append(exact_reciprocal, x_reg[::])\n",
    "    return circuit\n",
    "\n",
    "\n",
    "def latex_circuit_output(circuit):\n",
    "    simulator = Aer.get_backend('statevector_simulator')\n",
    "    aer_circuit = transpile(circuit, simulator)\n",
    "    return simulator.run(aer_circuit).result().get_statevector().draw(output='latex').data.replace('|', r'\\|')\n",
    "\n",
    "\n",
    "def run_table(vals, neg_vals=False):\n",
    "    markdowntable = f\"\"\"\n",
    "| Input $x$ | Input State | Output $\\\\frac{{s}}{{x}}$ | Output State |\n",
    "|-----------|-------------|-----------------------|--------------|\n",
    "\"\"\"\n",
    "    for val in vals:\n",
    "        input = val[\"input\"]\n",
    "        input_vec = val[\"input_vec\"]\n",
    "        output = val[\"output\"]\n",
    "        input_state = latex_circuit_output(create_input_circuit(input_vec))\n",
    "        output_state = latex_circuit_output(create_exact_reciprocal_circuit(input_vec, neg_vals))\n",
    "        markdowntable += f\"| {input} | {input_state} | {output} | {output_state} |\\n\"\n",
    "    display(Markdown(markdowntable))\n",
    "\n",
    "\n",
    "vals3 = [\n",
    "    {\"input\": \"$0$\"           , \"input_vec\": [1, 0, 0, 0, 0, 0, 0, 0], \"output\": \"undefined\"},       # |0>|00>\n",
    "    {\"input\": \"$\\\\frac{1}{4}$\", \"input_vec\": [0, 1, 0, 0, 0, 0, 0, 0], \"output\": \"$1$\"},             # |0>|01>\n",
    "    {\"input\": \"$\\\\frac{1}{2}$\", \"input_vec\": [0, 0, 1, 0, 0, 0, 0, 0], \"output\": \"$\\\\frac{1}{2}$\"},  # |0>|10>\n",
    "    {\"input\": \"$\\\\frac{3}{4}$\", \"input_vec\": [0, 0, 0, 1, 0, 0, 0, 0], \"output\": \"$\\\\frac{1}{3}$\"},  # |0>|11>\n",
    "    {\"input\": \"(N/A)\"         , \"input_vec\": [0, 0, 0, 0, 1, 0, 0, 0], \"output\": \"\"},                # |1>|00>\n",
    "    {\"input\": \"(N/A)\"         , \"input_vec\": [0, 0, 0, 0, 0, 1, 0, 0], \"output\": \"\"},                # |1>|01>\n",
    "    {\"input\": \"(N/A)\"         , \"input_vec\": [0, 0, 0, 0, 0, 0, 1, 0], \"output\": \"\"},                # |1>|10>\n",
    "    {\"input\": \"(N/A)\"         , \"input_vec\": [0, 0, 0, 0, 0, 0, 0, 1], \"output\": \"\"},                # |1>|11>\n",
    "]\n",
    "\n",
    "vals4 = [\n",
    "    {\"input\": \"$0$\"           , \"input_vec\": [1, 0, 0, 0, 0, 0, 0, 0, 0, 0, 0, 0, 0, 0, 0, 0], \"output\": \"undefined\"},      # |0>|000>\n",
    "    {\"input\": \"$\\\\frac{1}{8}$\", \"input_vec\": [0, 1, 0, 0, 0, 0, 0, 0, 0, 0, 0, 0, 0, 0, 0, 0], \"output\": \"$1$\"},            # |0>|001>\n",
    "    {\"input\": \"$\\\\frac{1}{4}$\", \"input_vec\": [0, 0, 1, 0, 0, 0, 0, 0, 0, 0, 0, 0, 0, 0, 0, 0], \"output\": \"$\\\\frac{1}{2}$\"}, # |0>|010>\n",
    "    {\"input\": \"$\\\\frac{3}{8}$\", \"input_vec\": [0, 0, 0, 1, 0, 0, 0, 0, 0, 0, 0, 0, 0, 0, 0, 0], \"output\": \"$\\\\frac{1}{3}$\"}, # |0>|011>\n",
    "    {\"input\": \"$\\\\frac{1}{2}$\", \"input_vec\": [0, 0, 0, 0, 1, 0, 0, 0, 0, 0, 0, 0, 0, 0, 0, 0], \"output\": \"$\\\\frac{1}{4}$\"}, # |0>|100>\n",
    "    {\"input\": \"$\\\\frac{5}{8}$\", \"input_vec\": [0, 0, 0, 0, 0, 1, 0, 0, 0, 0, 0, 0, 0, 0, 0, 0], \"output\": \"$\\\\frac{1}{5}$\"}, # |0>|101>\n",
    "    {\"input\": \"$\\\\frac{3}{4}$\", \"input_vec\": [0, 0, 0, 0, 0, 0, 1, 0, 0, 0, 0, 0, 0, 0, 0, 0], \"output\": \"$\\\\frac{1}{6}$\"}, # |0>|110>\n",
    "    {\"input\": \"$\\\\frac{7}{8}$\", \"input_vec\": [0, 0, 0, 0, 0, 0, 0, 1, 0, 0, 0, 0, 0, 0, 0, 0], \"output\": \"$\\\\frac{1}{7}$\"}, # |0>|111>\n",
    "    {\"input\": \"(N/A)\"         , \"input_vec\": [0, 0, 0, 0, 0, 0, 0, 0, 1, 0, 0, 0, 0, 0, 0, 0], \"output\": \"\"},               # |1>|000>\n",
    "    {\"input\": \"(N/A)\"         , \"input_vec\": [0, 0, 0, 0, 0, 0, 0, 0, 0, 1, 0, 0, 0, 0, 0, 0], \"output\": \"\"},               # |1>|001>\n",
    "    {\"input\": \"(N/A)\"         , \"input_vec\": [0, 0, 0, 0, 0, 0, 0, 0, 0, 0, 1, 0, 0, 0, 0, 0], \"output\": \"\"},               # |1>|010>\n",
    "    {\"input\": \"(N/A)\"         , \"input_vec\": [0, 0, 0, 0, 0, 0, 0, 0, 0, 0, 0, 1, 0, 0, 0, 0], \"output\": \"\"},               # |1>|011>\n",
    "    {\"input\": \"(N/A)\"         , \"input_vec\": [0, 0, 0, 0, 0, 0, 0, 0, 0, 0, 0, 0, 1, 0, 0, 0], \"output\": \"\"},               # |1>|100>\n",
    "    {\"input\": \"(N/A)\"         , \"input_vec\": [0, 0, 0, 0, 0, 0, 0, 0, 0, 0, 0, 0, 0, 1, 0, 0], \"output\": \"\"},               # |1>|101>\n",
    "    {\"input\": \"(N/A)\"         , \"input_vec\": [0, 0, 0, 0, 0, 0, 0, 0, 0, 0, 0, 0, 0, 0, 1, 0], \"output\": \"\"},               # |1>|110>\n",
    "    {\"input\": \"(N/A)\"         , \"input_vec\": [0, 0, 0, 0, 0, 0, 0, 0, 0, 0, 0, 0, 0, 0, 0, 1], \"output\": \"\"},               # |1>|111>\n",
    "]"
   ]
  },
  {
   "cell_type": "code",
   "execution_count": 8,
   "metadata": {},
   "outputs": [
    {
     "data": {
      "text/markdown": [
       "\n",
       "| Input $x$ | Input State | Output $\\frac{s}{x}$ | Output State |\n",
       "|-----------|-------------|-----------------------|--------------|\n",
       "| $0$ | $$ \\|000\\rangle$$ | undefined | $$ \\|000\\rangle$$ |\n",
       "| $\\frac{1}{4}$ | $$ \\|001\\rangle$$ | $1$ | $$ \\|101\\rangle$$ |\n",
       "| $\\frac{1}{2}$ | $$ \\|010\\rangle$$ | $\\frac{1}{2}$ | $$\\frac{\\sqrt{3}}{2} \\|010\\rangle+\\frac{1}{2} \\|110\\rangle$$ |\n",
       "| $\\frac{3}{4}$ | $$ \\|011\\rangle$$ | $\\frac{1}{3}$ | $$\\frac{2 \\sqrt{2}}{3} \\|011\\rangle+\\frac{1}{3} \\|111\\rangle$$ |\n",
       "| (N/A) | $$ \\|100\\rangle$$ |  | $$ \\|100\\rangle$$ |\n",
       "| (N/A) | $$ \\|101\\rangle$$ |  | $$- \\|001\\rangle$$ |\n",
       "| (N/A) | $$ \\|110\\rangle$$ |  | $$- \\frac{1}{2} \\|010\\rangle+\\frac{\\sqrt{3}}{2} \\|110\\rangle$$ |\n",
       "| (N/A) | $$ \\|111\\rangle$$ |  | $$- \\frac{1}{3} \\|011\\rangle+\\frac{2 \\sqrt{2}}{3} \\|111\\rangle$$ |\n"
      ],
      "text/plain": [
       "<IPython.core.display.Markdown object>"
      ]
     },
     "metadata": {},
     "output_type": "display_data"
    }
   ],
   "source": [
    "# num_state_qubits = 2; scaling = 1/4, neg_vals = False\n",
    "run_table(vals3)"
   ]
  },
  {
   "cell_type": "code",
   "execution_count": 12,
   "metadata": {},
   "outputs": [
    {
     "data": {
      "text/markdown": [
       "\n",
       "| Input $x$ | Input State | Output $\\frac{s}{x}$ | Output State |\n",
       "|-----------|-------------|-----------------------|--------------|\n",
       "| $0$ | $$ \\|0000\\rangle$$ | undefined | $$ \\|0000\\rangle$$ |\n",
       "| $\\frac{1}{8}$ | $$ \\|0001\\rangle$$ | $1$ | $$ \\|1001\\rangle$$ |\n",
       "| $\\frac{1}{4}$ | $$ \\|0010\\rangle$$ | $\\frac{1}{2}$ | $$\\frac{\\sqrt{3}}{2} \\|0010\\rangle+\\frac{1}{2} \\|1010\\rangle$$ |\n",
       "| $\\frac{3}{8}$ | $$ \\|0011\\rangle$$ | $\\frac{1}{3}$ | $$\\frac{2 \\sqrt{2}}{3} \\|0011\\rangle+\\frac{1}{3} \\|1011\\rangle$$ |\n",
       "| $\\frac{1}{2}$ | $$ \\|0100\\rangle$$ | $\\frac{1}{4}$ | $$\\frac{\\sqrt{15}}{4} \\|0100\\rangle+\\frac{1}{4} \\|1100\\rangle$$ |\n",
       "| $\\frac{5}{8}$ | $$ \\|0101\\rangle$$ | $\\frac{1}{5}$ | $$0.9797958971 \\|0101\\rangle+\\frac{1}{5} \\|1101\\rangle$$ |\n",
       "| $\\frac{3}{4}$ | $$ \\|0110\\rangle$$ | $\\frac{1}{6}$ | $$0.9860132972 \\|0110\\rangle+\\frac{1}{6} \\|1110\\rangle$$ |\n",
       "| $\\frac{7}{8}$ | $$ \\|0111\\rangle$$ | $\\frac{1}{7}$ | $$0.9897433186 \\|0111\\rangle+\\frac{1}{7} \\|1111\\rangle$$ |\n",
       "| (N/A) | $$ \\|1000\\rangle$$ |  | $$ \\|1000\\rangle$$ |\n",
       "| (N/A) | $$ \\|1001\\rangle$$ |  | $$- \\|0001\\rangle$$ |\n",
       "| (N/A) | $$ \\|1010\\rangle$$ |  | $$- \\frac{1}{2} \\|0010\\rangle+\\frac{\\sqrt{3}}{2} \\|1010\\rangle$$ |\n",
       "| (N/A) | $$ \\|1011\\rangle$$ |  | $$- \\frac{1}{3} \\|0011\\rangle+\\frac{2 \\sqrt{2}}{3} \\|1011\\rangle$$ |\n",
       "| (N/A) | $$ \\|1100\\rangle$$ |  | $$- \\frac{1}{4} \\|0100\\rangle+\\frac{\\sqrt{15}}{4} \\|1100\\rangle$$ |\n",
       "| (N/A) | $$ \\|1101\\rangle$$ |  | $$- \\frac{1}{5} \\|0101\\rangle+0.9797958971 \\|1101\\rangle$$ |\n",
       "| (N/A) | $$ \\|1110\\rangle$$ |  | $$- \\frac{1}{6} \\|0110\\rangle+0.9860132972 \\|1110\\rangle$$ |\n",
       "| (N/A) | $$ \\|1111\\rangle$$ |  | $$- \\frac{1}{7} \\|0111\\rangle+0.9897433186 \\|1111\\rangle$$ |\n"
      ],
      "text/plain": [
       "<IPython.core.display.Markdown object>"
      ]
     },
     "metadata": {},
     "output_type": "display_data"
    }
   ],
   "source": [
    "# num_state_qubits = 3, scaling = 1/4, neg_vals = False\n",
    "run_table(vals4)"
   ]
  }
 ],
 "metadata": {
  "kernelspec": {
   "display_name": "venv",
   "language": "python",
   "name": "python3"
  },
  "language_info": {
   "codemirror_mode": {
    "name": "ipython",
    "version": 3
   },
   "file_extension": ".py",
   "mimetype": "text/x-python",
   "name": "python",
   "nbconvert_exporter": "python",
   "pygments_lexer": "ipython3",
   "version": "3.10.12"
  }
 },
 "nbformat": 4,
 "nbformat_minor": 2
}
