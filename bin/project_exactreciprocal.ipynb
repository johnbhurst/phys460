{
 "cells": [
  {
   "cell_type": "markdown",
   "metadata": {},
   "source": [
    "# Qiskit ExactReciprocal\n",
    "\n",
    "This notebook demonstrates the Qiskit `ExactReciprocal` operation.\n",
    "\n",
    "* [Qiskit ExactReciprocal documentation](https://docs.quantum.ibm.com/api/qiskit/qiskit.circuit.library.ExactReciprocal)\n",
    "\n",
    "The documentation states that the `ExactReciprocal` operation takes the state $|x\\rangle|0\\rangle$ to:\n",
    "$$\n",
    "\\cos(\\frac{1}{x})|x\\rangle|0\\rangle + \\sin(\\frac{1}{x})|x\\rangle|1\\rangle\n",
    "$$\n",
    "\n",
    "However, this is not quite correct. We have found that the operation actually takes the state $|x\\rangle|0\\rangle$ to:\n",
    "$$\n",
    "\\sqrt{1-\\left(\\frac{1}{x}\\right)^2}|x\\rangle|0\\rangle + \\frac{1}{x}|x\\rangle|1\\rangle\n",
    "$$\n",
    "\n",
    "As well as the number of qubits for the input value, the operation takes two further parameters:\n",
    "\n",
    "* `scaling`: Scaling factor $s$ of the reciprocal function, i.e. to compute $s/x$.\n",
    "* `neg_vals` (Boolean): Whether $x$ might represent negative values. In this case the first qubit is the sign, with $|1\\rangle$ for negative and $|0\\rangle$ for positive. For the negative case it is assumed that the remaining string represents $1-x$. This is because $e^{-2\\pi ix}=e^{2\\pi i(1-x)}$ for $x\\in[0,1]$.\n",
    "\n",
    "Jack Morgan's HHL circuit uses `neg_vals=True`.\n",
    "\n",
    "How does the `ExactReciprocal` operation work? Let's examine some examples."
   ]
  },
  {
   "cell_type": "code",
   "execution_count": 49,
   "metadata": {},
   "outputs": [],
   "source": [
    "import numpy as np\n",
    "from IPython.display import display, Markdown\n",
    "from math import isclose, log2\n",
    "from qiskit import QuantumCircuit, QuantumRegister, transpile\n",
    "from qiskit_aer import Aer\n",
    "from qiskit.circuit.library import ExactReciprocal, StatePreparation\n",
    "from qiskit.circuit.library.generalized_gates import UCRYGate\n",
    "from qiskit.quantum_info import Statevector\n",
    "\n",
    "\n",
    "def create_basis_statevector_input_circuit(input):\n",
    "    x = np.array(input) / np.linalg.norm(input)\n",
    "    num_state_qubits = int(log2(x.size))\n",
    "    state_preparation = StatePreparation(Statevector(x))\n",
    "    x_reg = QuantumRegister(num_state_qubits, 'x')\n",
    "    circuit = QuantumCircuit(x_reg)\n",
    "    circuit.append(state_preparation, x_reg)\n",
    "    return circuit\n",
    "\n",
    "\n",
    "def create_exact_reciprocal_circuit(input):\n",
    "    x = np.array(input) / np.linalg.norm(input)\n",
    "    num_state_qubits = int(log2(x.size))\n",
    "    scaling = 2**-num_state_qubits\n",
    "    state_preparation = StatePreparation(Statevector(x))\n",
    "    x_reg = QuantumRegister(num_state_qubits, 'x')\n",
    "    a_reg = QuantumRegister(1, 'a')\n",
    "    circuit = QuantumCircuit(a_reg, x_reg)\n",
    "    circuit.append(state_preparation, x_reg)\n",
    "    exact_reciprocal = ExactReciprocal(num_state_qubits=num_state_qubits, scaling=scaling)\n",
    "    circuit.append(exact_reciprocal, x_reg[::-1] + [a_reg[0]])\n",
    "    return circuit\n",
    "\n",
    "\n",
    "def latex_circuit_output(circuit):\n",
    "    simulator = Aer.get_backend('statevector_simulator')\n",
    "    aer_circuit = transpile(circuit, simulator)\n",
    "    return simulator.run(aer_circuit).result().get_statevector().draw(output='latex').data.replace('|', r'\\|')\n",
    "\n",
    "\n",
    "def run_table(vals):\n",
    "    markdowntable = f\"\"\"\n",
    "| Input $x$ | Input State | Output $\\\\frac{{s}}{{x}}$ | Output State |\n",
    "|-----------|-------------|-----------------------|--------------|\n",
    "\"\"\"\n",
    "    for val in vals:\n",
    "        input = val[\"input\"]\n",
    "        input_vec = val[\"input_vec\"]\n",
    "        output = val[\"output\"]\n",
    "        input_state = latex_circuit_output(create_basis_statevector_input_circuit(input_vec))\n",
    "        output_state = latex_circuit_output(create_exact_reciprocal_circuit(input_vec))\n",
    "        markdowntable += f\"| {input} | {input_state} | {output} | {output_state} |\\n\"\n",
    "    display(Markdown(markdowntable))\n",
    "\n",
    "\n",
    "vals2 = [\n",
    "    {\"input\": \"$0$\"           , \"input_vec\": [1, 0, 0, 0], \"output\": \"$0$\"},\n",
    "    {\"input\": \"$\\\\frac{1}{2}$\", \"input_vec\": [0, 1, 0, 0], \"output\": \"$\\\\frac{1}{2}$\"},\n",
    "    {\"input\": \"$\\\\frac{1}{4}$\", \"input_vec\": [0, 0, 1, 0], \"output\": \"$1$\"},\n",
    "    {\"input\": \"$\\\\frac{3}{4}$\", \"input_vec\": [0, 0, 0, 1], \"output\": \"$\\\\frac{1}{3}$\"},\n",
    "]\n",
    "\n",
    "vals3 = [\n",
    "    {\"input\": \"$0$\"           , \"input_vec\": [1, 0, 0, 0, 0, 0, 0, 0], \"output\": \"$0$\"},\n",
    "    {\"input\": \"$\\\\frac{1}{2}$\", \"input_vec\": [0, 1, 0, 0, 0, 0, 0, 0], \"output\": \"$\\\\frac{1}{4}$\"},\n",
    "    {\"input\": \"$\\\\frac{1}{4}$\", \"input_vec\": [0, 0, 1, 0, 0, 0, 0, 0], \"output\": \"$\\\\frac{1}{2}$\"},\n",
    "    {\"input\": \"$\\\\frac{3}{4}$\", \"input_vec\": [0, 0, 0, 1, 0, 0, 0, 0], \"output\": \"$\\\\frac{1}{6}$\"},\n",
    "    {\"input\": \"$\\\\frac{1}{8}$\", \"input_vec\": [0, 0, 0, 0, 1, 0, 0, 0], \"output\": \"$1$\"},\n",
    "    {\"input\": \"$\\\\frac{5}{8}$\", \"input_vec\": [0, 0, 0, 0, 0, 1, 0, 0], \"output\": \"$\\\\frac{1}{5}$\"},\n",
    "    {\"input\": \"$\\\\frac{3}{8}$\", \"input_vec\": [0, 0, 0, 0, 0, 0, 1, 0], \"output\": \"$\\\\frac{1}{3}$\"},\n",
    "    {\"input\": \"$\\\\frac{7}{8}$\", \"input_vec\": [0, 0, 0, 0, 0, 0, 0, 1], \"output\": \"$\\\\frac{1}{7}$\"},\n",
    "]\n",
    "\n",
    "vals4 = [\n",
    "    {\"input\": \"0\"               , \"input_vec\": [1, 0, 0, 0, 0, 0, 0, 0, 0, 0, 0, 0, 0, 0, 0, 0], \"output\": \"0\"},\n",
    "    {\"input\": \"$\\\\frac{1}{2}$\"  , \"input_vec\": [0, 1, 0, 0, 0, 0, 0, 0, 0, 0, 0, 0, 0, 0, 0, 0], \"output\": \"$\\\\frac{1}{8}$\"},\n",
    "    {\"input\": \"$\\\\frac{1}{4}$\"  , \"input_vec\": [0, 0, 1, 0, 0, 0, 0, 0, 0, 0, 0, 0, 0, 0, 0, 0], \"output\": \"$\\\\frac{1}{4}$\"},\n",
    "    {\"input\": \"$\\\\frac{3}{4}$\"  , \"input_vec\": [0, 0, 0, 1, 0, 0, 0, 0, 0, 0, 0, 0, 0, 0, 0, 0], \"output\": \"$\\\\frac{1}{12}$\"},\n",
    "    {\"input\": \"$\\\\frac{1}{8}$\"  , \"input_vec\": [0, 0, 0, 0, 1, 0, 0, 0, 0, 0, 0, 0, 0, 0, 0, 0], \"output\": \"$\\\\frac{1}{2}$\"},\n",
    "    {\"input\": \"$\\\\frac{5}{8}$\"  , \"input_vec\": [0, 0, 0, 0, 0, 1, 0, 0, 0, 0, 0, 0, 0, 0, 0, 0], \"output\": \"$\\\\frac{1}{10}$\"},\n",
    "    {\"input\": \"$\\\\frac{3}{8}$\"  , \"input_vec\": [0, 0, 0, 0, 0, 0, 1, 0, 0, 0, 0, 0, 0, 0, 0, 0], \"output\": \"$\\\\frac{1}{6}$\"},\n",
    "    {\"input\": \"$\\\\frac{7}{8}$\"  , \"input_vec\": [0, 0, 0, 0, 0, 0, 0, 1, 0, 0, 0, 0, 0, 0, 0, 0], \"output\": \"$\\\\frac{1}{14}$\"},\n",
    "    {\"input\": \"$\\\\frac{1}{16}$\" , \"input_vec\": [0, 0, 0, 0, 0, 0, 0, 0, 1, 0, 0, 0, 0, 0, 0, 0], \"output\": \"$1$\"},\n",
    "    {\"input\": \"$\\\\frac{9}{16}$\" , \"input_vec\": [0, 0, 0, 0, 0, 0, 0, 0, 0, 1, 0, 0, 0, 0, 0, 0], \"output\": \"$\\\\frac{1}{9}$\"},\n",
    "    {\"input\": \"$\\\\frac{5}{16}$\" , \"input_vec\": [0, 0, 0, 0, 0, 0, 0, 0, 0, 0, 1, 0, 0, 0, 0, 0], \"output\": \"$\\\\frac{1}{5}$\"},\n",
    "    {\"input\": \"$\\\\frac{13}{16}$\", \"input_vec\": [0, 0, 0, 0, 0, 0, 0, 0, 0, 0, 0, 1, 0, 0, 0, 0], \"output\": \"$\\\\frac{1}{13}$\"},\n",
    "    {\"input\": \"$\\\\frac{3}{16}$\" , \"input_vec\": [0, 0, 0, 0, 0, 0, 0, 0, 0, 0, 0, 0, 1, 0, 0, 0], \"output\": \"$\\\\frac{1}{3}$\"},\n",
    "    {\"input\": \"$\\\\frac{11}{16}$\", \"input_vec\": [0, 0, 0, 0, 0, 0, 0, 0, 0, 0, 0, 0, 0, 1, 0, 0], \"output\": \"$\\\\frac{1}{11}$\"},\n",
    "    {\"input\": \"$\\\\frac{7}{16}$\" , \"input_vec\": [0, 0, 0, 0, 0, 0, 0, 0, 0, 0, 0, 0, 0, 0, 1, 0], \"output\": \"$\\\\frac{1}{7}$\"},\n",
    "    {\"input\": \"$\\\\frac{15}{16}$\", \"input_vec\": [0, 0, 0, 0, 0, 0, 0, 0, 0, 0, 0, 0, 0, 0, 0, 1], \"output\": \"$\\\\frac{1}{15}$\"},\n",
    "]\n",
    "\n",
    "input = latex_circuit_output(create_basis_statevector_input_circuit([0, 1, 0, 0, 0, 0, 0, 0]))\n",
    "output = latex_circuit_output(create_exact_reciprocal_circuit([0, 1, 0, 0, 0, 0, 0, 0]))\n",
    "\n",
    "markdowntable = f\"\"\"\n",
    "| Input | Output |\n",
    "|--------------|------------------|\n",
    "| {input} | {output} |\n",
    "\"\"\""
   ]
  },
  {
   "cell_type": "code",
   "execution_count": 50,
   "metadata": {},
   "outputs": [
    {
     "data": {
      "text/markdown": [
       "\n",
       "| Input $x$ | Input State | Output $\\frac{s}{x}$ | Output State |\n",
       "|-----------|-------------|-----------------------|--------------|\n",
       "| $0$ | $$ \\|00\\rangle$$ | $0$ | $$ \\|000\\rangle$$ |\n",
       "| $\\frac{1}{2}$ | $$ \\|01\\rangle$$ | $\\frac{1}{2}$ | $$\\frac{\\sqrt{3}}{2} \\|010\\rangle+\\frac{1}{2} \\|011\\rangle$$ |\n",
       "| $\\frac{1}{4}$ | $$ \\|10\\rangle$$ | $1$ | $$ \\|101\\rangle$$ |\n",
       "| $\\frac{3}{4}$ | $$ \\|11\\rangle$$ | $\\frac{1}{3}$ | $$\\frac{2 \\sqrt{2}}{3} \\|110\\rangle+\\frac{1}{3} \\|111\\rangle$$ |\n"
      ],
      "text/plain": [
       "<IPython.core.display.Markdown object>"
      ]
     },
     "metadata": {},
     "output_type": "display_data"
    }
   ],
   "source": [
    "# num_state_qubits = 2; scaling = 1/4\n",
    "run_table(vals2)\n"
   ]
  },
  {
   "cell_type": "code",
   "execution_count": 51,
   "metadata": {},
   "outputs": [
    {
     "data": {
      "text/markdown": [
       "\n",
       "| Input $x$ | Input State | Output $\\frac{s}{x}$ | Output State |\n",
       "|-----------|-------------|-----------------------|--------------|\n",
       "| $0$ | $$ \\|000\\rangle$$ | $0$ | $$ \\|0000\\rangle$$ |\n",
       "| $\\frac{1}{2}$ | $$ \\|001\\rangle$$ | $\\frac{1}{4}$ | $$\\frac{\\sqrt{15}}{4} \\|0010\\rangle+\\frac{1}{4} \\|0011\\rangle$$ |\n",
       "| $\\frac{1}{4}$ | $$ \\|010\\rangle$$ | $\\frac{1}{2}$ | $$\\frac{\\sqrt{3}}{2} \\|0100\\rangle+\\frac{1}{2} \\|0101\\rangle$$ |\n",
       "| $\\frac{3}{4}$ | $$ \\|011\\rangle$$ | $\\frac{1}{6}$ | $$0.9860132972 \\|0110\\rangle+\\frac{1}{6} \\|0111\\rangle$$ |\n",
       "| $\\frac{1}{8}$ | $$ \\|100\\rangle$$ | $1$ | $$ \\|1001\\rangle$$ |\n",
       "| $\\frac{5}{8}$ | $$ \\|101\\rangle$$ | $\\frac{1}{5}$ | $$0.9797958971 \\|1010\\rangle+\\frac{1}{5} \\|1011\\rangle$$ |\n",
       "| $\\frac{3}{8}$ | $$ \\|110\\rangle$$ | $\\frac{1}{3}$ | $$\\frac{2 \\sqrt{2}}{3} \\|1100\\rangle+\\frac{1}{3} \\|1101\\rangle$$ |\n",
       "| $\\frac{7}{8}$ | $$ \\|111\\rangle$$ | $\\frac{1}{7}$ | $$0.9897433186 \\|1110\\rangle+\\frac{1}{7} \\|1111\\rangle$$ |\n"
      ],
      "text/plain": [
       "<IPython.core.display.Markdown object>"
      ]
     },
     "metadata": {},
     "output_type": "display_data"
    }
   ],
   "source": [
    "# num_state_qubits = 3; scaling = 1/8\n",
    "run_table(vals3)"
   ]
  },
  {
   "cell_type": "code",
   "execution_count": 52,
   "metadata": {},
   "outputs": [
    {
     "data": {
      "text/markdown": [
       "\n",
       "| Input $x$ | Input State | Output $\\frac{s}{x}$ | Output State |\n",
       "|-----------|-------------|-----------------------|--------------|\n",
       "| 0 | $$ \\|0000\\rangle$$ | 0 | $$ \\|00000\\rangle$$ |\n",
       "| $\\frac{1}{2}$ | $$ \\|0001\\rangle$$ | $\\frac{1}{8}$ | $$0.9921567416 \\|00010\\rangle+\\frac{1}{8} \\|00011\\rangle$$ |\n",
       "| $\\frac{1}{4}$ | $$ \\|0010\\rangle$$ | $\\frac{1}{4}$ | $$\\frac{\\sqrt{15}}{4} \\|00100\\rangle+\\frac{1}{4} \\|00101\\rangle$$ |\n",
       "| $\\frac{3}{4}$ | $$ \\|0011\\rangle$$ | $\\frac{1}{12}$ | $$0.9965217286 \\|00110\\rangle+\\frac{1}{12} \\|00111\\rangle$$ |\n",
       "| $\\frac{1}{8}$ | $$ \\|0100\\rangle$$ | $\\frac{1}{2}$ | $$\\frac{\\sqrt{3}}{2} \\|01000\\rangle+\\frac{1}{2} \\|01001\\rangle$$ |\n",
       "| $\\frac{5}{8}$ | $$ \\|0101\\rangle$$ | $\\frac{1}{10}$ | $$0.9949874371 \\|01010\\rangle+\\frac{1}{10} \\|01011\\rangle$$ |\n",
       "| $\\frac{3}{8}$ | $$ \\|0110\\rangle$$ | $\\frac{1}{6}$ | $$0.9860132972 \\|01100\\rangle+\\frac{1}{6} \\|01101\\rangle$$ |\n",
       "| $\\frac{7}{8}$ | $$ \\|0111\\rangle$$ | $\\frac{1}{14}$ | $$0.9974457174 \\|01110\\rangle+\\frac{1}{14} \\|01111\\rangle$$ |\n",
       "| $\\frac{1}{16}$ | $$ \\|1000\\rangle$$ | $1$ | $$ \\|10001\\rangle$$ |\n",
       "| $\\frac{9}{16}$ | $$ \\|1001\\rangle$$ | $\\frac{1}{9}$ | $$0.99380799 \\|10010\\rangle+\\frac{1}{9} \\|10011\\rangle$$ |\n",
       "| $\\frac{5}{16}$ | $$ \\|1010\\rangle$$ | $\\frac{1}{5}$ | $$0.9797958971 \\|10100\\rangle+\\frac{1}{5} \\|10101\\rangle$$ |\n",
       "| $\\frac{13}{16}$ | $$ \\|1011\\rangle$$ | $\\frac{1}{13}$ | $$0.9970370305 \\|10110\\rangle+\\frac{1}{13} \\|10111\\rangle$$ |\n",
       "| $\\frac{3}{16}$ | $$ \\|1100\\rangle$$ | $\\frac{1}{3}$ | $$\\frac{2 \\sqrt{2}}{3} \\|11000\\rangle+\\frac{1}{3} \\|11001\\rangle$$ |\n",
       "| $\\frac{11}{16}$ | $$ \\|1101\\rangle$$ | $\\frac{1}{11}$ | $$0.9958591955 \\|11010\\rangle+\\frac{1}{11} \\|11011\\rangle$$ |\n",
       "| $\\frac{7}{16}$ | $$ \\|1110\\rangle$$ | $\\frac{1}{7}$ | $$0.9897433186 \\|11100\\rangle+\\frac{1}{7} \\|11101\\rangle$$ |\n",
       "| $\\frac{15}{16}$ | $$ \\|1111\\rangle$$ | $\\frac{1}{15}$ | $$0.9977753031 \\|11110\\rangle+\\frac{1}{15} \\|11111\\rangle$$ |\n"
      ],
      "text/plain": [
       "<IPython.core.display.Markdown object>"
      ]
     },
     "metadata": {},
     "output_type": "display_data"
    }
   ],
   "source": [
    "# num_state_qubits = 4; scaling = 1/16\n",
    "run_table(vals4)"
   ]
  },
  {
   "cell_type": "code",
   "execution_count": null,
   "metadata": {},
   "outputs": [],
   "source": []
  }
 ],
 "metadata": {
  "kernelspec": {
   "display_name": "venv",
   "language": "python",
   "name": "python3"
  },
  "language_info": {
   "codemirror_mode": {
    "name": "ipython",
    "version": 3
   },
   "file_extension": ".py",
   "mimetype": "text/x-python",
   "name": "python",
   "nbconvert_exporter": "python",
   "pygments_lexer": "ipython3",
   "version": "3.10.12"
  }
 },
 "nbformat": 4,
 "nbformat_minor": 2
}
