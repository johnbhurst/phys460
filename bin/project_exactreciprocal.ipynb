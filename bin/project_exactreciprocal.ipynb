{
 "cells": [
  {
   "cell_type": "markdown",
   "metadata": {},
   "source": [
    "# Qiskit ExactReciprocal\n",
    "\n",
    "This notebook demonstrates the Qiskit `ExactReciprocal` operation.\n",
    "\n",
    "* [Qiskit ExactReciprocal documentation](https://docs.quantum.ibm.com/api/qiskit/qiskit.circuit.library.ExactReciprocal)\n",
    "\n",
    "The documentation states that the `ExactReciprocal` operation takes the state $|x\\rangle|0\\rangle$ to:\n",
    "$$\n",
    "\\cos(\\frac{1}{x})|x\\rangle|0\\rangle + \\sin(\\frac{1}{x})|x\\rangle|1\\rangle\n",
    "$$\n",
    "\n",
    "As well as the number of qubits for the input value, the operation takes two further parameters:\n",
    "\n",
    "* `scaling`: Scaling factor $s$ of the reciprocal function, i.e. to compute $s/x$.\n",
    "* `neg_vals` (Boolean): Whether $x$ might represent negative values. In this case the first qubit is the sign, with $|1\\rangle$ for negative and $|0\\rangle$ for positive. For the negative case it is assumed that the remaining string represents $1-x$. This is because $e^{-2\\pi ix}=e^{2\\pi i(1-x)}$ for $x\\in[0,1]$.\n",
    "\n",
    "Jack Morgan's HHL circuit uses `neg_vals=True`.\n",
    "\n",
    "How does the `ExactReciprocal` operation work? Let's examine some examples."
   ]
  },
  {
   "cell_type": "code",
   "execution_count": 68,
   "metadata": {},
   "outputs": [
    {
     "data": {
      "text/latex": [
       "$$\\frac{\\sqrt{2}}{2} |00\\rangle+\\frac{\\sqrt{2}}{2} |11\\rangle$$"
      ],
      "text/plain": [
       "<IPython.core.display.Latex object>"
      ]
     },
     "execution_count": 68,
     "metadata": {},
     "output_type": "execute_result"
    }
   ],
   "source": [
    "import math\n",
    "import numpy as np\n",
    "from qiskit import QuantumCircuit, QuantumRegister, transpile\n",
    "from qiskit_aer import Aer\n",
    "from qiskit.circuit.library import ExactReciprocal, StatePreparation\n",
    "from qiskit.quantum_info import Statevector\n",
    "\n",
    "def run_statevector(circuit):\n",
    "    simulator = Aer.get_backend('statevector_simulator')\n",
    "    aer_circuit = transpile(circuit, simulator)\n",
    "    return simulator.run(aer_circuit).result().get_statevector()\n",
    "\n",
    "x = np.array([1, 1])\n",
    "x = x / np.linalg.norm(x)\n",
    "num_state_qubits = int(x.size / 2)\n",
    "state_preparation = StatePreparation(Statevector(x))\n",
    "\n",
    "x_reg = QuantumRegister(num_state_qubits, 'x')\n",
    "a_reg = QuantumRegister(1, 'a')\n",
    "circuit = QuantumCircuit(a_reg, x_reg)\n",
    "circuit.append(state_preparation, x_reg)\n",
    "\n",
    "# circuit.draw(output='mpl')\n",
    "# statevector = run_statevector(circuit)\n",
    "# statevector.draw(output='latex')\n",
    "\n",
    "exact_reciprocal = ExactReciprocal(num_state_qubits=num_state_qubits, scaling=1/2)\n",
    "circuit.append(exact_reciprocal, x_reg[::-1] + [a_reg[0]])\n",
    "# circuit.draw(output='mpl')\n",
    "\n",
    "statevector = run_statevector(circuit)\n",
    "statevector.draw(output='latex')"
   ]
  },
  {
   "cell_type": "markdown",
   "metadata": {},
   "source": [
    "# ExactReciprocal for input $|0\\rangle$\n",
    "\n",
    "|Scale| Statevector | $\\theta=\\frac{1}{x}$ |\n",
    "|---|---|---|\n",
    "| 1 | $\\|00\\rangle$ | 0 |\n",
    "| 2 | $\\|00\\rangle$ | 0 |\n",
    "| 4 | $\\|00\\rangle$ | 0 |\n",
    "| 8 | $\\|00\\rangle$ | 0 |"
   ]
  },
  {
   "cell_type": "markdown",
   "metadata": {},
   "source": [
    "# ExactReciprocal for input $|1\\rangle$\n",
    "\n",
    "|Scale| Statevector result | $\\theta=\\frac{1}{x}$ | \n",
    "|--:|---|---|\n",
    "| 1 | $\\|10\\rangle$ | $0,\\pi$ |\n",
    "| 2 | $\\|11\\rangle$ | $\\frac{\\pi}{2}$ |\n",
    "| 4 | $\\frac{\\sqrt{3}}{2}\\|10\\rangle + \\frac{1}{2}\\|11\\rangle$ | $\\frac{\\pi}{6}$ |\n",
    "| 8 | $\\frac{\\sqrt{15}}{4}\\|10\\rangle + \\frac{1}{4}\\|11\\rangle$ | 0.2527 |\n",
    "| 16 | $\\frac{\\sqrt{63}}{8}\\|10\\rangle + \\frac{1}{8}\\|11\\rangle$ | 0.1253 |"
   ]
  },
  {
   "cell_type": "markdown",
   "metadata": {},
   "source": [
    "# ExactReciprocal for input $\\frac{1}{\\sqrt{2}}(|0\\rangle + |1\\rangle)$\n",
    "\n",
    "|Scale| Statevector | $\\theta=\\frac{1}{x}$ |\n",
    "|---|---|---|\n",
    "| 1 | $\\frac{1}{\\sqrt{2}}(\\|00\\rangle+\\|10\\rangle)$ | 0 |\n",
    "| 2 | $\\frac{1}{\\sqrt{2}}(\\|00\\rangle+\\|11\\rangle)$ | ? |\n",
    "| 4 | $\\frac{1}{\\sqrt{2}}\\|00\\rangle+\\frac{\\sqrt{6}}{4}\\|10\\rangle+\\frac{\\sqrt{2}}{4}\\|11\\rangle$ | ? |\n",
    "| 8 | $\\frac{1}{\\sqrt{2}}\\|00\\rangle+\\frac{\\sqrt{30}}{8}\\|10\\rangle+\\frac{1}{4\\sqrt{2}}\\|11\\rangle$ | ? |"
   ]
  }
 ],
 "metadata": {
  "kernelspec": {
   "display_name": "venv",
   "language": "python",
   "name": "python3"
  },
  "language_info": {
   "codemirror_mode": {
    "name": "ipython",
    "version": 3
   },
   "file_extension": ".py",
   "mimetype": "text/x-python",
   "name": "python",
   "nbconvert_exporter": "python",
   "pygments_lexer": "ipython3",
   "version": "3.10.12"
  }
 },
 "nbformat": 4,
 "nbformat_minor": 2
}
