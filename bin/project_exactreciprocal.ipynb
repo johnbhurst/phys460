{
 "cells": [
  {
   "cell_type": "markdown",
   "metadata": {},
   "source": [
    "# Qiskit ExactReciprocal\n",
    "\n",
    "This notebook demonstrates the Qiskit `ExactReciprocal` operation.\n",
    "\n",
    "* [Qiskit ExactReciprocal documentation](https://docs.quantum.ibm.com/api/qiskit/qiskit.circuit.library.ExactReciprocal)\n",
    "\n",
    "The documentation states that the `ExactReciprocal` operation takes the state $|x\\rangle|0\\rangle$ to:\n",
    "$$\n",
    "\\cos(\\frac{1}{x})|x\\rangle|0\\rangle + \\sin(\\frac{1}{x})|x\\rangle|1\\rangle\n",
    "$$\n",
    "\n",
    "As well as the number of qubits for the input value, the operation takes two further parameters:\n",
    "\n",
    "* `scaling`: Scaling factor $s$ of the reciprocal function, i.e. to compute $s/x$.\n",
    "* `neg_vals` (Boolean): Whether $x$ might represent negative values. In this case the first qubit is the sign, with $|1\\rangle$ for negative and $|0\\rangle$ for positive. For the negative case it is assumed that the remaining string represents $1-x$. This is because $e^{-2\\pi ix}=e^{2\\pi i(1-x)}$ for $x\\in[0,1]$.\n",
    "\n",
    "Jack Morgan's HHL circuit uses `neg_vals=True`.\n",
    "\n",
    "How does the `ExactReciprocal` operation work? Let's examine some examples."
   ]
  },
  {
   "cell_type": "code",
   "execution_count": 23,
   "metadata": {},
   "outputs": [],
   "source": [
    "import numpy as np\n",
    "from IPython.display import display, Markdown\n",
    "from math import isclose, log2\n",
    "from qiskit import QuantumCircuit, QuantumRegister, transpile\n",
    "from qiskit_aer import Aer\n",
    "from qiskit.circuit.library import ExactReciprocal, StatePreparation\n",
    "from qiskit.circuit.library.generalized_gates import UCRYGate\n",
    "from qiskit.quantum_info import Statevector\n",
    "\n",
    "\n",
    "def create_basis_statevector_input_circuit(input):\n",
    "    x = np.array(input) / np.linalg.norm(input)\n",
    "    num_state_qubits = int(log2(x.size))\n",
    "    state_preparation = StatePreparation(Statevector(x))\n",
    "    x_reg = QuantumRegister(num_state_qubits, 'x')\n",
    "    circuit = QuantumCircuit(x_reg)\n",
    "    circuit.append(state_preparation, x_reg)\n",
    "    return circuit\n",
    "\n",
    "\n",
    "def create_exact_reciprocal_circuit(input):\n",
    "    x = np.array(input) / np.linalg.norm(input)\n",
    "    num_state_qubits = int(log2(x.size))\n",
    "    scaling = 2**-num_state_qubits\n",
    "    state_preparation = StatePreparation(Statevector(x))\n",
    "    x_reg = QuantumRegister(num_state_qubits, 'x')\n",
    "    a_reg = QuantumRegister(1, 'a')\n",
    "    circuit = QuantumCircuit(a_reg, x_reg)\n",
    "    circuit.append(state_preparation, x_reg)\n",
    "    exact_reciprocal = ExactReciprocal(num_state_qubits=num_state_qubits, scaling=scaling)\n",
    "    circuit.append(exact_reciprocal, x_reg[::-1] + [a_reg[0]])\n",
    "    return circuit\n",
    "\n",
    "\n",
    "def latex_circuit_output(circuit):\n",
    "    simulator = Aer.get_backend('statevector_simulator')\n",
    "    aer_circuit = transpile(circuit, simulator)\n",
    "    return simulator.run(aer_circuit).result().get_statevector().draw(output='latex').data.replace('|', r'\\|')\n",
    "\n",
    "\n",
    "def run_table(basis):\n",
    "    markdowntable = f\"\"\"\n",
    "| Input | Output |\n",
    "|--------------|------------------|\n",
    "\"\"\"\n",
    "    for vec in basis:\n",
    "        input = latex_circuit_output(create_basis_statevector_input_circuit(vec))\n",
    "        output = latex_circuit_output(create_exact_reciprocal_circuit(vec))\n",
    "        markdowntable += f\"| {input} | {output} |\\n\"\n",
    "    display(Markdown(markdowntable))\n",
    "\n",
    "\n",
    "basis2 = [\n",
    "    [1, 0, 0, 0],\n",
    "    [0, 1, 0, 0],\n",
    "    [0, 0, 1, 0],\n",
    "    [0, 0, 0, 1]\n",
    "]\n",
    "\n",
    "basis3 = [\n",
    "    [1, 0, 0, 0, 0, 0, 0, 0],\n",
    "    [0, 1, 0, 0, 0, 0, 0, 0],\n",
    "    [0, 0, 1, 0, 0, 0, 0, 0],\n",
    "    [0, 0, 0, 1, 0, 0, 0, 0],\n",
    "    [0, 0, 0, 0, 1, 0, 0, 0],\n",
    "    [0, 0, 0, 0, 0, 1, 0, 0],\n",
    "    [0, 0, 0, 0, 0, 0, 1, 0],\n",
    "    [0, 0, 0, 0, 0, 0, 0, 1]\n",
    "]\n",
    "\n",
    "basis4 = [\n",
    "    [1, 0, 0, 0, 0, 0, 0, 0, 0, 0, 0, 0, 0, 0, 0, 0],\n",
    "    [0, 1, 0, 0, 0, 0, 0, 0, 0, 0, 0, 0, 0, 0, 0, 0],\n",
    "    [0, 0, 1, 0, 0, 0, 0, 0, 0, 0, 0, 0, 0, 0, 0, 0],\n",
    "    [0, 0, 0, 1, 0, 0, 0, 0, 0, 0, 0, 0, 0, 0, 0, 0],\n",
    "    [0, 0, 0, 0, 1, 0, 0, 0, 0, 0, 0, 0, 0, 0, 0, 0],\n",
    "    [0, 0, 0, 0, 0, 1, 0, 0, 0, 0, 0, 0, 0, 0, 0, 0],\n",
    "    [0, 0, 0, 0, 0, 0, 1, 0, 0, 0, 0, 0, 0, 0, 0, 0],\n",
    "    [0, 0, 0, 0, 0, 0, 0, 1, 0, 0, 0, 0, 0, 0, 0, 0],\n",
    "    [0, 0, 0, 0, 0, 0, 0, 0, 1, 0, 0, 0, 0, 0, 0, 0],\n",
    "    [0, 0, 0, 0, 0, 0, 0, 0, 0, 1, 0, 0, 0, 0, 0, 0],\n",
    "    [0, 0, 0, 0, 0, 0, 0, 0, 0, 0, 1, 0, 0, 0, 0, 0],\n",
    "    [0, 0, 0, 0, 0, 0, 0, 0, 0, 0, 0, 1, 0, 0, 0, 0],\n",
    "    [0, 0, 0, 0, 0, 0, 0, 0, 0, 0, 0, 0, 1, 0, 0, 0],\n",
    "    [0, 0, 0, 0, 0, 0, 0, 0, 0, 0, 0, 0, 0, 1, 0, 0],\n",
    "    [0, 0, 0, 0, 0, 0, 0, 0, 0, 0, 0, 0, 0, 0, 1, 0],\n",
    "    [0, 0, 0, 0, 0, 0, 0, 0, 0, 0, 0, 0, 0, 0, 0, 1]\n",
    "]\n",
    "\n",
    "input = latex_circuit_output(create_basis_statevector_input_circuit([0, 1, 0, 0, 0, 0, 0, 0]))\n",
    "output = latex_circuit_output(create_exact_reciprocal_circuit([0, 1, 0, 0, 0, 0, 0, 0]))\n",
    "\n",
    "markdowntable = f\"\"\"\n",
    "| Input | Output |\n",
    "|--------------|------------------|\n",
    "| {input} | {output} |\n",
    "\"\"\"\n",
    "\n",
    "# print(markdowntable)\n",
    "\n",
    "# print(exact_reciprocal.unitary)\n",
    "# # exact_reciprocal.draw(output='mpl')\n",
    "\n",
    "# statevector = run_statevector(circuit)\n",
    "# statevector.draw(output='latex')"
   ]
  },
  {
   "cell_type": "code",
   "execution_count": 24,
   "metadata": {},
   "outputs": [
    {
     "data": {
      "text/markdown": [
       "\n",
       "| Input | Output |\n",
       "|--------------|------------------|\n",
       "| $$ \\|00\\rangle$$ | $$ \\|000\\rangle$$ |\n",
       "| $$ \\|01\\rangle$$ | $$\\frac{\\sqrt{3}}{2} \\|010\\rangle+\\frac{1}{2} \\|011\\rangle$$ |\n",
       "| $$ \\|10\\rangle$$ | $$ \\|101\\rangle$$ |\n",
       "| $$ \\|11\\rangle$$ | $$\\frac{2 \\sqrt{2}}{3} \\|110\\rangle+\\frac{1}{3} \\|111\\rangle$$ |\n"
      ],
      "text/plain": [
       "<IPython.core.display.Markdown object>"
      ]
     },
     "metadata": {},
     "output_type": "display_data"
    }
   ],
   "source": [
    "run_table(basis2)\n"
   ]
  },
  {
   "cell_type": "code",
   "execution_count": 25,
   "metadata": {},
   "outputs": [
    {
     "data": {
      "text/markdown": [
       "\n",
       "| Input | Output |\n",
       "|--------------|------------------|\n",
       "| $$ \\|000\\rangle$$ | $$ \\|0000\\rangle$$ |\n",
       "| $$ \\|001\\rangle$$ | $$\\frac{\\sqrt{15}}{4} \\|0010\\rangle+\\frac{1}{4} \\|0011\\rangle$$ |\n",
       "| $$ \\|010\\rangle$$ | $$\\frac{\\sqrt{3}}{2} \\|0100\\rangle+\\frac{1}{2} \\|0101\\rangle$$ |\n",
       "| $$ \\|011\\rangle$$ | $$0.9860132972 \\|0110\\rangle+\\frac{1}{6} \\|0111\\rangle$$ |\n",
       "| $$ \\|100\\rangle$$ | $$ \\|1001\\rangle$$ |\n",
       "| $$ \\|101\\rangle$$ | $$0.9797958971 \\|1010\\rangle+\\frac{1}{5} \\|1011\\rangle$$ |\n",
       "| $$ \\|110\\rangle$$ | $$\\frac{2 \\sqrt{2}}{3} \\|1100\\rangle+\\frac{1}{3} \\|1101\\rangle$$ |\n",
       "| $$ \\|111\\rangle$$ | $$0.9897433186 \\|1110\\rangle+\\frac{1}{7} \\|1111\\rangle$$ |\n"
      ],
      "text/plain": [
       "<IPython.core.display.Markdown object>"
      ]
     },
     "metadata": {},
     "output_type": "display_data"
    }
   ],
   "source": [
    "run_table(basis3)"
   ]
  },
  {
   "cell_type": "code",
   "execution_count": 26,
   "metadata": {},
   "outputs": [
    {
     "data": {
      "text/markdown": [
       "\n",
       "| Input | Output |\n",
       "|--------------|------------------|\n",
       "| $$ \\|0000\\rangle$$ | $$ \\|00000\\rangle$$ |\n",
       "| $$ \\|0001\\rangle$$ | $$0.9921567416 \\|00010\\rangle+\\frac{1}{8} \\|00011\\rangle$$ |\n",
       "| $$ \\|0010\\rangle$$ | $$\\frac{\\sqrt{15}}{4} \\|00100\\rangle+\\frac{1}{4} \\|00101\\rangle$$ |\n",
       "| $$ \\|0011\\rangle$$ | $$0.9965217286 \\|00110\\rangle+\\frac{1}{12} \\|00111\\rangle$$ |\n",
       "| $$ \\|0100\\rangle$$ | $$\\frac{\\sqrt{3}}{2} \\|01000\\rangle+\\frac{1}{2} \\|01001\\rangle$$ |\n",
       "| $$ \\|0101\\rangle$$ | $$0.9949874371 \\|01010\\rangle+\\frac{1}{10} \\|01011\\rangle$$ |\n",
       "| $$ \\|0110\\rangle$$ | $$0.9860132972 \\|01100\\rangle+\\frac{1}{6} \\|01101\\rangle$$ |\n",
       "| $$ \\|0111\\rangle$$ | $$0.9974457174 \\|01110\\rangle+\\frac{1}{14} \\|01111\\rangle$$ |\n",
       "| $$ \\|1000\\rangle$$ | $$ \\|10001\\rangle$$ |\n",
       "| $$ \\|1001\\rangle$$ | $$0.99380799 \\|10010\\rangle+\\frac{1}{9} \\|10011\\rangle$$ |\n",
       "| $$ \\|1010\\rangle$$ | $$0.9797958971 \\|10100\\rangle+\\frac{1}{5} \\|10101\\rangle$$ |\n",
       "| $$ \\|1011\\rangle$$ | $$0.9970370305 \\|10110\\rangle+\\frac{1}{13} \\|10111\\rangle$$ |\n",
       "| $$ \\|1100\\rangle$$ | $$\\frac{2 \\sqrt{2}}{3} \\|11000\\rangle+\\frac{1}{3} \\|11001\\rangle$$ |\n",
       "| $$ \\|1101\\rangle$$ | $$0.9958591955 \\|11010\\rangle+\\frac{1}{11} \\|11011\\rangle$$ |\n",
       "| $$ \\|1110\\rangle$$ | $$0.9897433186 \\|11100\\rangle+\\frac{1}{7} \\|11101\\rangle$$ |\n",
       "| $$ \\|1111\\rangle$$ | $$0.9977753031 \\|11110\\rangle+\\frac{1}{15} \\|11111\\rangle$$ |\n"
      ],
      "text/plain": [
       "<IPython.core.display.Markdown object>"
      ]
     },
     "metadata": {},
     "output_type": "display_data"
    }
   ],
   "source": [
    "run_table(basis4)"
   ]
  },
  {
   "cell_type": "code",
   "execution_count": null,
   "metadata": {},
   "outputs": [],
   "source": []
  }
 ],
 "metadata": {
  "kernelspec": {
   "display_name": "venv",
   "language": "python",
   "name": "python3"
  },
  "language_info": {
   "codemirror_mode": {
    "name": "ipython",
    "version": 3
   },
   "file_extension": ".py",
   "mimetype": "text/x-python",
   "name": "python",
   "nbconvert_exporter": "python",
   "pygments_lexer": "ipython3",
   "version": "3.10.12"
  }
 },
 "nbformat": 4,
 "nbformat_minor": 2
}
