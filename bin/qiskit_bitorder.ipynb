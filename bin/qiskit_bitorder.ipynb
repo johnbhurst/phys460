{
 "cells": [
  {
   "cell_type": "markdown",
   "metadata": {},
   "source": [
    "# Qiskit bit order\n",
    "\n",
    "This notebook is a quick reminder of Qiskit bit ordering conventions. "
   ]
  },
  {
   "cell_type": "markdown",
   "metadata": {},
   "source": [
    "## State vector bit order"
   ]
  },
  {
   "cell_type": "code",
   "execution_count": 30,
   "metadata": {},
   "outputs": [
    {
     "data": {
      "text/markdown": [
       "\n",
       "| Basis vector | State vector ket |\n",
       "|--------------|------------------|\n",
       "| [1, 0, 0, 0] | $$ \\|00\\rangle$$ |\n",
       "| [0, 1, 0, 0] | $$ \\|01\\rangle$$ |\n",
       "| [0, 0, 1, 0] | $$ \\|10\\rangle$$ |\n",
       "| [0, 0, 0, 1] | $$ \\|11\\rangle$$ |\n"
      ],
      "text/plain": [
       "<IPython.core.display.Markdown object>"
      ]
     },
     "metadata": {},
     "output_type": "display_data"
    }
   ],
   "source": [
    "import numpy as np\n",
    "from IPython.display import display, Markdown\n",
    "from math import log2\n",
    "from qiskit import QuantumCircuit, QuantumRegister, transpile\n",
    "from qiskit_aer import Aer\n",
    "from qiskit.circuit.library import StatePreparation\n",
    "from qiskit.quantum_info import Statevector\n",
    "\n",
    "def create_basis_statevector_circuit(input):\n",
    "    x = np.array(input) / np.linalg.norm(input)\n",
    "    num_state_qubits = int(log2(x.size))\n",
    "    state_preparation = StatePreparation(Statevector(x))\n",
    "    x_reg = QuantumRegister(num_state_qubits, 'x')\n",
    "    circuit = QuantumCircuit(x_reg)\n",
    "    circuit.append(state_preparation, x_reg)\n",
    "    return circuit\n",
    "\n",
    "\n",
    "def latex_circuit_output(circuit):\n",
    "    simulator = Aer.get_backend('statevector_simulator')\n",
    "    aer_circuit = transpile(circuit, simulator)\n",
    "    return simulator.run(aer_circuit).result().get_statevector().draw(output='latex').data.replace('|', r'\\|')\n",
    "\n",
    "\n",
    "markdowntable = f\"\"\"\n",
    "| Basis vector | State vector ket |\n",
    "|--------------|------------------|\n",
    "\"\"\"\n",
    "for basis_vec in [[1,0,0,0], [0,1,0,0], [0,0,1,0], [0,0,0,1]]:\n",
    "    state_vec = latex_circuit_output(create_basis_statevector_circuit(basis_vec))\n",
    "    markdowntable += f\"| {basis_vec} | {state_vec} |\\n\"\n",
    "\n",
    "display(Markdown(markdowntable))"
   ]
  },
  {
   "cell_type": "markdown",
   "metadata": {},
   "source": [
    "## Circuit bit order"
   ]
  },
  {
   "cell_type": "code",
   "execution_count": 37,
   "metadata": {},
   "outputs": [
    {
     "data": {
      "text/markdown": [
       "| Qubit | Circuit | Output |\n",
       "|-------|---------|--------|\n",
       "| Qubit 0 | ![Circuit 0](circuit_images/circuit_0.png) | $$ \\|001\\rangle$$ |\n",
       "| Qubit 1 | ![Circuit 1](circuit_images/circuit_1.png) | $$ \\|010\\rangle$$ |\n",
       "| Qubit 2 | ![Circuit 2](circuit_images/circuit_2.png) | $$ \\|100\\rangle$$ |\n"
      ],
      "text/plain": [
       "<IPython.core.display.Markdown object>"
      ]
     },
     "metadata": {},
     "output_type": "display_data"
    }
   ],
   "source": [
    "import os\n",
    "from qiskit import QuantumCircuit\n",
    "from IPython.display import display, Markdown\n",
    "\n",
    "def save_circuit_image(circuit, filename):\n",
    "    circuit.draw(output='mpl', filename=filename)\n",
    "\n",
    "def latex_not_circuit(n):\n",
    "    circuit = QuantumCircuit(3)\n",
    "    circuit.x(n)\n",
    "    return circuit\n",
    "\n",
    "os.makedirs('circuit_images', exist_ok=True)\n",
    "\n",
    "markdown_table = \"\"\"| Qubit | Circuit | Output |\n",
    "|-------|---------|--------|\n",
    "\"\"\"\n",
    "for i in range(3):\n",
    "    circuit = latex_not_circuit(i)\n",
    "    filename = f'circuit_images/circuit_{i}.png'\n",
    "    save_circuit_image(circuit, filename)\n",
    "    state_vec = latex_circuit_output(circuit)\n",
    "    markdown_table += f\"| Qubit {i} | ![Circuit {i}]({filename}) | {state_vec} |\\n\"\n",
    "\n",
    "\n",
    "# Display the Markdown table\n",
    "display(Markdown(markdown_table))\n",
    "\n"
   ]
  }
 ],
 "metadata": {
  "kernelspec": {
   "display_name": "venv",
   "language": "python",
   "name": "python3"
  },
  "language_info": {
   "codemirror_mode": {
    "name": "ipython",
    "version": 3
   },
   "file_extension": ".py",
   "mimetype": "text/x-python",
   "name": "python",
   "nbconvert_exporter": "python",
   "pygments_lexer": "ipython3",
   "version": "3.10.12"
  }
 },
 "nbformat": 4,
 "nbformat_minor": 2
}
