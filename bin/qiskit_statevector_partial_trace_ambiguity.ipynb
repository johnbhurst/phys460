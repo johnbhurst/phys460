{
 "cells": [
  {
   "cell_type": "markdown",
   "metadata": {},
   "source": [
    "# Qiskit density matrix / statevector precision bug?\n",
    "\n",
    "John Hurst, 2025-01-01.\n",
    "\n",
    "This notebook shows some odd behaviour in Qiskit regarding densdity matrices with near-zero values.\n",
    "\n",
    "I obtained the density matrix below using a partial trace in a teleportation demo.\n",
    "Different versions of my code produced the slightly different versions below, but these ought to be equivalent - their differences are only in slightly different approximations to zero."
   ]
  },
  {
   "cell_type": "code",
   "execution_count": 1,
   "metadata": {},
   "outputs": [],
   "source": [
    "from IPython.display import display, Markdown\n",
    "from qiskit.quantum_info import DensityMatrix, Statevector"
   ]
  },
  {
   "cell_type": "code",
   "execution_count": 12,
   "metadata": {},
   "outputs": [
    {
     "data": {
      "text/markdown": [
       "This is the ``correct'' form of the density matrix, with the zero parts actually zero, and this yields the desired statevector:"
      ],
      "text/plain": [
       "<IPython.core.display.Markdown object>"
      ]
     },
     "metadata": {},
     "output_type": "display_data"
    },
    {
     "data": {
      "text/markdown": [
       "$\\rho_0$ = \n",
       "\n",
       "\\begin{bmatrix}\n",
       "\\frac{1}{2} & - \\frac{i}{2}  \\\\\n",
       " \\frac{i}{2} & \\frac{1}{2}  \\\\\n",
       " \\end{bmatrix}\n"
      ],
      "text/plain": [
       "<IPython.core.display.Markdown object>"
      ]
     },
     "metadata": {},
     "output_type": "display_data"
    },
    {
     "data": {
      "text/markdown": [
       "$\\psi_0$ = $\\frac{\\sqrt{2}}{2} |0\\rangle+\\frac{\\sqrt{2} i}{2} |1\\rangle$"
      ],
      "text/plain": [
       "<IPython.core.display.Markdown object>"
      ]
     },
     "metadata": {},
     "output_type": "display_data"
    },
    {
     "data": {
      "text/markdown": [
       "This is one version I got from `partial_trace()`, which yields the desired statevector:"
      ],
      "text/plain": [
       "<IPython.core.display.Markdown object>"
      ]
     },
     "metadata": {},
     "output_type": "display_data"
    },
    {
     "data": {
      "text/markdown": [
       "$\\rho_1$ = \n",
       "\n",
       "\\begin{bmatrix}\n",
       "\\frac{1}{2} & - \\frac{i}{2}  \\\\\n",
       " \\frac{i}{2} & \\frac{1}{2}  \\\\\n",
       " \\end{bmatrix}\n"
      ],
      "text/plain": [
       "<IPython.core.display.Markdown object>"
      ]
     },
     "metadata": {},
     "output_type": "display_data"
    },
    {
     "data": {
      "text/markdown": [
       "$\\psi_1$ = $\\frac{\\sqrt{2}}{2} |0\\rangle+\\frac{\\sqrt{2} i}{2} |1\\rangle$"
      ],
      "text/plain": [
       "<IPython.core.display.Markdown object>"
      ]
     },
     "metadata": {},
     "output_type": "display_data"
    },
    {
     "data": {
      "text/markdown": [
       "This is another version I got using slightly different code, which yields a different statevector:"
      ],
      "text/plain": [
       "<IPython.core.display.Markdown object>"
      ]
     },
     "metadata": {},
     "output_type": "display_data"
    },
    {
     "data": {
      "text/markdown": [
       "$\\rho_2$ = \n",
       "\n",
       "\\begin{bmatrix}\n",
       "\\frac{1}{2} & - \\frac{i}{2}  \\\\\n",
       " \\frac{i}{2} & \\frac{1}{2}  \\\\\n",
       " \\end{bmatrix}\n"
      ],
      "text/plain": [
       "<IPython.core.display.Markdown object>"
      ]
     },
     "metadata": {},
     "output_type": "display_data"
    },
    {
     "data": {
      "text/markdown": [
       "$\\psi_2$ = $- \\frac{\\sqrt{2} i}{2} |0\\rangle+\\frac{\\sqrt{2}}{2} |1\\rangle$"
      ],
      "text/plain": [
       "<IPython.core.display.Markdown object>"
      ]
     },
     "metadata": {},
     "output_type": "display_data"
    }
   ],
   "source": [
    "display(Markdown(\"This is the ``correct'' form of the density matrix, with the zero parts actually zero, and this yields the desired statevector:\"))\n",
    "dm0 = DensityMatrix([[5.0e-01+0j,\n",
    "                      0-5.0e-01j],\n",
    "                     [0+5.0e-01j,\n",
    "                      5.0e-01-0j]])\n",
    "display(Markdown(f\"$\\\\rho_0$ = {dm0.draw('latex_source')}\"))\n",
    "display(Markdown(f\"$\\\\psi_0$ = ${dm0.to_statevector().draw('latex_source')}$\"))\n",
    "\n",
    "display(Markdown(\"This is one version I got from `partial_trace()`, which yields the desired statevector:\"))\n",
    "dm1 = DensityMatrix([[5.00000000e-01+0.00000000e+00j,\n",
    "                      9.18485099e-17-5.00000000e-01j],\n",
    "                     [9.18485099e-17+5.00000000e-01j,\n",
    "                      5.00000000e-01+1.24018686e-33j]])\n",
    "display(Markdown(f\"$\\\\rho_1$ = {dm1.draw('latex_source')}\"))\n",
    "display(Markdown(f\"$\\\\psi_1$ = ${dm1.to_statevector().draw('latex_source')}$\"))\n",
    "\n",
    "display(Markdown(\"This is another version I got using slightly different code, which yields a different statevector:\"))\n",
    "dm2 = DensityMatrix([[5.000000e-01+0.00000000e+00j,\n",
    "                      3.061617e-17-5.00000000e-01j],\n",
    "                     [3.061617e-17+5.00000000e-01j,\n",
    "                      5.000000e-01-4.40814657e-34j]])\n",
    "\n",
    "display(Markdown(f\"$\\\\rho_2$ = {dm2.draw('latex_source')}\"))\n",
    "display(Markdown(f\"$\\\\psi_2$ = ${dm2.to_statevector().draw('latex_source')}$\"))"
   ]
  },
  {
   "cell_type": "code",
   "execution_count": null,
   "metadata": {},
   "outputs": [],
   "source": []
  }
 ],
 "metadata": {
  "kernelspec": {
   "display_name": "venv",
   "language": "python",
   "name": "python3"
  },
  "language_info": {
   "codemirror_mode": {
    "name": "ipython",
    "version": 3
   },
   "file_extension": ".py",
   "mimetype": "text/x-python",
   "name": "python",
   "nbconvert_exporter": "python",
   "pygments_lexer": "ipython3",
   "version": "3.10.12"
  }
 },
 "nbformat": 4,
 "nbformat_minor": 2
}
