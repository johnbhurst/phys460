{
 "cells": [
  {
   "cell_type": "markdown",
   "metadata": {},
   "source": [
    "# Qiskit outputs example\n",
    "\n",
    "This example demonstrates three different ways to output results from a Qiskit program:\n",
    "\n",
    "- Getting the `Statevector` at different points of the computation.\n",
    "- Using the `Sampler` feature to get frequency counts for measured qubits.\n",
    "- Using the `Estimator` feature for a more concise and powerful way to compute estimated values for observables such as $\\langle X\\rangle, \\langle Z\\rangle$.\n"
   ]
  },
  {
   "cell_type": "markdown",
   "metadata": {},
   "source": [
    "## Imports and initilization"
   ]
  },
  {
   "cell_type": "code",
   "execution_count": 46,
   "metadata": {},
   "outputs": [],
   "source": [
    "from IPython.display import display, Markdown\n",
    "from ipywidgets import FloatSlider\n",
    "from math import cos, sin, pi as π\n",
    "from qiskit_aer import AerSimulator\n",
    "from qiskit_ibm_runtime import Estimator, Sampler\n",
    "from qiskit.circuit import ClassicalRegister, QuantumCircuit, QuantumRegister\n",
    "from qiskit.quantum_info import SparsePauliOp, Statevector\n",
    "from qiskit.visualization import plot_histogram\n",
    "\n",
    "def create_state(θ, φ):\n",
    "    α = cos(θ/2)\n",
    "    β = sin(θ/2) * (cos(φ) + 1j * sin(φ)) # exp(iφ) sin(θ/2)\n",
    "    return Statevector([α, β])\n",
    "\n",
    "\n",
    "def create_circuit(θ, φ, θX, θY, θZ, classical = False):\n",
    "    q = [q0] = QuantumRegister(1, 'q')\n",
    "    if classical:\n",
    "        c = [c0] = ClassicalRegister(1, 'c')\n",
    "        circuit = QuantumCircuit(q, c)\n",
    "    else:\n",
    "        circuit = QuantumCircuit(q)\n",
    "    initial_state = create_state(θ, φ)\n",
    "    circuit.initialize(initial_state, q0)\n",
    "    circuit.save_statevector(label = \"Ψ₀\")\n",
    "    if θX != 0:\n",
    "        circuit.rx(θX, q0)\n",
    "    if θY != 0:\n",
    "        circuit.ry(θY, q0)\n",
    "    if θZ != 0:\n",
    "        circuit.rz(θZ, q0)\n",
    "    circuit.save_statevector(label = \"Ψ₁\")\n",
    "    if classical:\n",
    "        circuit.measure(q0, c0)\n",
    "    return circuit"
   ]
  },
  {
   "cell_type": "markdown",
   "metadata": {},
   "source": [
    "## Input\n",
    "\n",
    "The inputs are:\n",
    "\n",
    "* $\\theta$ and $\\phi$ specify the initilization state via $|\\psi\\rangle = \\cos\\frac{\\theta}{2}|0\\rangle + e^{i\\phi}\\sin\\frac{\\theta}{2}|1\\rangle$.\n",
    "* $\\theta_X$ specifies an $R_X(\\theta_X)$ gate applied to the qubit.\n",
    "* $\\theta_Y$ specifies an $R_Y(\\theta_Y)$ gate applied to the qubit.\n",
    "* $\\theta_Z$ specifies an $R_Z(\\theta_Z)$ gate applied to the qubit."
   ]
  },
  {
   "cell_type": "code",
   "execution_count": 2,
   "metadata": {},
   "outputs": [
    {
     "data": {
      "application/vnd.jupyter.widget-view+json": {
       "model_id": "8891dae7581a400c8f4d49098fa3cdb6",
       "version_major": 2,
       "version_minor": 0
      },
      "text/plain": [
       "FloatSlider(value=0.0, description='θ:', max=3.141592653589793, step=0.1308996938995747)"
      ]
     },
     "metadata": {},
     "output_type": "display_data"
    },
    {
     "data": {
      "application/vnd.jupyter.widget-view+json": {
       "model_id": "024828c1a5ca4310acbbc2c5e2f8be6a",
       "version_major": 2,
       "version_minor": 0
      },
      "text/plain": [
       "FloatSlider(value=0.0, description='φ:', max=6.283185307179586, step=0.1308996938995747)"
      ]
     },
     "metadata": {},
     "output_type": "display_data"
    },
    {
     "data": {
      "application/vnd.jupyter.widget-view+json": {
       "model_id": "c43671af0f2c48769a8f6eebe658a14a",
       "version_major": 2,
       "version_minor": 0
      },
      "text/plain": [
       "FloatSlider(value=0.0, description='θX:', max=6.283185307179586, step=0.1308996938995747)"
      ]
     },
     "metadata": {},
     "output_type": "display_data"
    },
    {
     "data": {
      "application/vnd.jupyter.widget-view+json": {
       "model_id": "7e415231dbb44aa09d6ce35a2c484582",
       "version_major": 2,
       "version_minor": 0
      },
      "text/plain": [
       "FloatSlider(value=0.0, description='θY:', max=6.283185307179586, step=0.1308996938995747)"
      ]
     },
     "metadata": {},
     "output_type": "display_data"
    },
    {
     "data": {
      "application/vnd.jupyter.widget-view+json": {
       "model_id": "78f1a22f905d4f559219152778f3b1c3",
       "version_major": 2,
       "version_minor": 0
      },
      "text/plain": [
       "FloatSlider(value=0.0, description='θZ:', max=6.283185307179586, step=0.1308996938995747)"
      ]
     },
     "metadata": {},
     "output_type": "display_data"
    }
   ],
   "source": [
    "θ = FloatSlider(value = 0, min = 0, max = π, step = π/24, description = \"θ:\")\n",
    "φ = FloatSlider(value = 0, min = 0, max = 2*π, step = π/24, description = \"φ:\")\n",
    "\n",
    "θX = FloatSlider(value = 0, min = 0, max = 2*π, step = π/24, description = \"θX:\")\n",
    "θY = FloatSlider(value = 0, min = 0, max = 2*π, step = π/24, description = \"θY:\")\n",
    "θZ = FloatSlider(value = 0, min = 0, max = 2*π, step = π/24, description = \"θZ:\")\n",
    "\n",
    "display(θ)\n",
    "display(φ)\n",
    "\n",
    "display(θX)\n",
    "display(θY)\n",
    "display(θZ)"
   ]
  },
  {
   "cell_type": "markdown",
   "metadata": {},
   "source": [
    "## Statevector output"
   ]
  },
  {
   "cell_type": "code",
   "execution_count": 47,
   "metadata": {},
   "outputs": [
    {
     "data": {
      "image/png": "[encoded data removed]",
      "text/plain": [
       "<Figure size 436.286x117.056 with 1 Axes>"
      ]
     },
     "metadata": {},
     "output_type": "display_data"
    },
    {
     "data": {
      "text/markdown": [
       "Ψ₀ = $\\frac{\\sqrt{2}}{2} |0\\rangle+\\frac{\\sqrt{2} i}{2} |1\\rangle$"
      ],
      "text/plain": [
       "<IPython.core.display.Markdown object>"
      ]
     },
     "metadata": {},
     "output_type": "display_data"
    },
    {
     "data": {
      "text/markdown": [
       "Ψ₁ = $\\frac{\\sqrt{2}}{2} |0\\rangle+\\frac{\\sqrt{2} i}{2} |1\\rangle$"
      ],
      "text/plain": [
       "<IPython.core.display.Markdown object>"
      ]
     },
     "metadata": {},
     "output_type": "display_data"
    }
   ],
   "source": [
    "circuit = create_circuit(θ.value, φ.value, θX.value, θY.value, θZ.value)\n",
    "simulator = AerSimulator()\n",
    "result = simulator.run(circuit).result()\n",
    "data = result.data(0)\n",
    "Ψ0 = data[\"Ψ₀\"].draw(\"latex_source\")\n",
    "Ψ1 = data[\"Ψ₁\"].draw(\"latex_source\")\n",
    "\n",
    "display(circuit.draw(\"mpl\"))\n",
    "display(Markdown(f\"Ψ₀ = ${Ψ0}$\"))\n",
    "display(Markdown(f\"Ψ₁ = ${Ψ1}$\"))\n"
   ]
  },
  {
   "cell_type": "markdown",
   "metadata": {},
   "source": [
    "## Sampler output"
   ]
  },
  {
   "cell_type": "code",
   "execution_count": 48,
   "metadata": {},
   "outputs": [
    {
     "data": {
      "image/png": "[encoded data removed]",
      "text/plain": [
       "<Figure size 519.897x200.667 with 1 Axes>"
      ]
     },
     "metadata": {},
     "output_type": "display_data"
    },
    {
     "data": {
      "image/png": "[encoded data removed]",
      "text/plain": [
       "<Figure size 640x480 with 1 Axes>"
      ]
     },
     "execution_count": 48,
     "metadata": {},
     "output_type": "execute_result"
    }
   ],
   "source": [
    "circuit = create_circuit(θ.value, φ.value, θX.value, θY.value, θZ.value, classical = True)\n",
    "display(circuit.draw(\"mpl\"))\n",
    "\n",
    "simulator = AerSimulator()\n",
    "sampler = Sampler(simulator)\n",
    "job = sampler.run([circuit], shots = 1000)\n",
    "result = job.result()\n",
    "counts = result[0].data.c.get_counts()\n",
    "plot_histogram(counts)\n"
   ]
  },
  {
   "cell_type": "markdown",
   "metadata": {},
   "source": [
    "## Estimator output"
   ]
  },
  {
   "cell_type": "code",
   "execution_count": 50,
   "metadata": {},
   "outputs": [
    {
     "data": {
      "image/png": "[encoded data removed]",
      "text/plain": [
       "<Figure size 436.286x117.056 with 1 Axes>"
      ]
     },
     "metadata": {},
     "output_type": "display_data"
    },
    {
     "data": {
      "text/plain": [
       "array([1.])"
      ]
     },
     "metadata": {},
     "output_type": "display_data"
    }
   ],
   "source": [
    "circuit = create_circuit(θ.value, φ.value, θX.value, θY.value, θZ.value)\n",
    "display(circuit.draw(\"mpl\"))\n",
    "\n",
    "simulator = AerSimulator()\n",
    "estimator = Estimator(simulator)\n",
    "observable = SparsePauliOp.from_list([(\"Y\", 1)])\n",
    "pub = (circuit, [[observable]])\n",
    "job = estimator.run(pubs=[pub])\n",
    "result = job.result()\n",
    "expectation = result[0].data.evs[0]\n",
    "display(expectation)"
   ]
  },
  {
   "cell_type": "code",
   "execution_count": null,
   "metadata": {},
   "outputs": [],
   "source": []
  }
 ],
 "metadata": {
  "kernelspec": {
   "display_name": ".venv",
   "language": "python",
   "name": "python3"
  },
  "language_info": {
   "codemirror_mode": {
    "name": "ipython",
    "version": 3
   },
   "file_extension": ".py",
   "mimetype": "text/x-python",
   "name": "python",
   "nbconvert_exporter": "python",
   "pygments_lexer": "ipython3",
   "version": "3.10.12"
  }
 },
 "nbformat": 4,
 "nbformat_minor": 2
}
