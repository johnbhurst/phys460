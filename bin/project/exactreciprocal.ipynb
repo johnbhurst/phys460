{
 "cells": [
  {
   "cell_type": "markdown",
   "metadata": {},
   "source": [
    "# Qiskit ExactReciprocal\n",
    "\n",
    "This notebook demonstrates the Qiskit `ExactReciprocal` component.\n",
    "\n",
    "* [Qiskit ExactReciprocal documentation](https://docs.quantum.ibm.com/api/qiskit/qiskit.circuit.library.ExactReciprocal)\n",
    "\n",
    "The documentation states that the `ExactReciprocal` operation takes the state $|x\\rangle|0\\rangle$ to:\n",
    "$$\n",
    "\\cos(\\frac{1}{x})|x\\rangle|0\\rangle + \\sin(\\frac{1}{x})|x\\rangle|1\\rangle\n",
    "$$\n",
    "\n",
    "However, this is not quite correct. We have found that the operation actually takes the state $|x\\rangle|0\\rangle$ to:\n",
    "$$\n",
    "\\sqrt{1-\\left(\\frac{1}{x}\\right)^2}|x\\rangle|0\\rangle + \\frac{1}{x}|x\\rangle|1\\rangle\n",
    "$$\n",
    "\n",
    "As well as the number of qubits for the input value, the operation takes two further parameters:\n",
    "\n",
    "* `scaling`: Scaling factor $s$ of the reciprocal function, i.e. to compute $s/x$.\n",
    "* `neg_vals` (Boolean): Whether $x$ might represent negative values. In this case the first qubit is the sign, with $|1\\rangle$ for negative and $|0\\rangle$ for positive. For the negative case it is assumed that the remaining string represents $1-x$. This is because $e^{-2\\pi ix}=e^{2\\pi i(1-x)}$ for $x\\in[0,1]$.\n",
    "\n",
    "If we choose `scaling`=$\\frac{1}{2^n}$, where $n$ is the number of clock (state) qubits, then our input $x$ is interpreted as a binary fraction $0.x_1x_2\\ldots x_n$.\n",
    "\n",
    "The examples below first show how the `ExactReciprocal` operation works for this choice of `scaling` and positive $x$, \n",
    "and then show some other variants.\n",
    "Note that the way the circuit is wired up, the `ExactReciprocal` operates on $|0\\rangle|x\\rangle$ rather than $|x\\rangle|0\\rangle$.\n",
    "Jack Morgan's HHL circuit uses `neg_vals=True`.\n",
    "\n",
    "## See also:\n",
    "\n",
    "* [Jack Morgan's Enhanced HHL code](https://github.com/jackhmorgan/Enhanced-Hybrid-HHL)"
   ]
  },
  {
   "cell_type": "code",
   "execution_count": 1,
   "metadata": {},
   "outputs": [],
   "source": [
    "import numpy as np\n",
    "from IPython.display import display, Markdown\n",
    "from qiskit import QuantumCircuit, QuantumRegister, transpile\n",
    "from qiskit_aer import Aer\n",
    "from qiskit.circuit.library import ExactReciprocal, StatePreparation\n",
    "from qiskit.quantum_info import Statevector\n",
    "\n",
    "\n",
    "def create_input_circuit(input):\n",
    "    \"\"\"Create a circuit that prepares the input state.\"\"\"\n",
    "    x = np.array(input) / np.linalg.norm(input)\n",
    "    state_vector = Statevector(x)\n",
    "    x_reg = QuantumRegister(state_vector.num_qubits, 'x')\n",
    "    circuit = QuantumCircuit(x_reg)\n",
    "    circuit.append(StatePreparation(state_vector), x_reg)\n",
    "    return circuit\n",
    "\n",
    "\n",
    "def create_exact_reciprocal_circuit(input, scaling_factor=1, neg_vals=False):\n",
    "    \"\"\"Create a circuit that computes the exact reciprocal of the input state.\"\"\"\n",
    "    circuit = create_input_circuit(input)\n",
    "    num_state_qubits = circuit.num_qubits - 1\n",
    "    scaling = 2**(-num_state_qubits) * scaling_factor\n",
    "    exact_reciprocal = ExactReciprocal(num_state_qubits=num_state_qubits, scaling=scaling, neg_vals=neg_vals)\n",
    "    circuit.append(exact_reciprocal, circuit.qubits)\n",
    "    return circuit\n",
    "\n",
    "\n",
    "def run_circuit(circuit):\n",
    "    \"\"\"Run the circuit on the statevector simulator and return the output state.\"\"\"\n",
    "    simulator = Aer.get_backend('statevector_simulator')\n",
    "    aer_circuit = transpile(circuit, simulator)\n",
    "    return simulator.run(aer_circuit).result().get_statevector()\n",
    "\n",
    "\n",
    "def latex_circuit_output(circuit):\n",
    "    \"\"\"Return the LaTeX representation of the output state of the circuit, suitable for display in a IPython Markdown cell.\"\"\"\n",
    "    return run_circuit(circuit).draw(output='latex').data.replace('|', r'\\|')\n",
    "\n",
    "\n",
    "def latex_source_circuit_output(circuit):\n",
    "    \"\"\"Return the LaTeX source code representation of the output state of the circuit, suitable for copy+paste to a LaTeX file.\"\"\"\n",
    "    return run_circuit(circuit).draw(output='latex_source').replace('|', r'\\|')\n",
    "\n",
    "\n",
    "def run_table(vals, scaling_factor=1, neg_vals=False):\n",
    "    \"\"\"Displays a table of ExactReciprocal inputs and outputs in Jupyter notebook.\"\"\"\n",
    "    markdowntable = f\"\"\"\n",
    "| Input $x$ | Input State | Output State | Output $\\\\frac{{s}}{{x}}$ |\n",
    "|-----------|-------------|--------------|---------------------------|\n",
    "\"\"\"\n",
    "    for val in vals:\n",
    "        input = val[\"input\"]\n",
    "        input_vec = val[\"input_vec\"]\n",
    "        output = val[\"output\"]\n",
    "        input_state = latex_circuit_output(create_input_circuit(input_vec))\n",
    "        output_state = latex_circuit_output(create_exact_reciprocal_circuit(input_vec, scaling_factor, neg_vals))\n",
    "        if scaling_factor == 1:\n",
    "            markdowntable += f\"| {input} | {input_state} | {output_state} | {output} | \\n\"\n",
    "        else:\n",
    "            markdowntable += f\"| {input_state} | {output_state} | \\n\"\n",
    "    display(Markdown(markdowntable))\n",
    "\n",
    "\n",
    "def run_table_for_latex_source(vals, scaling_factor=1, neg_vals=False):\n",
    "    \"\"\"Displays a table of ExactReciprocal inputs and outputs in LaTeX source format.\"\"\"\n",
    "    result = f\"\"\"\n",
    "\"\"\"\n",
    "    for val in vals:\n",
    "        input = val[\"input\"]\n",
    "        input_vec = val[\"input_vec\"]\n",
    "        output = val[\"output\"]\n",
    "        input_state = latex_source_circuit_output(create_input_circuit(input_vec))\n",
    "        output_state = latex_source_circuit_output(create_exact_reciprocal_circuit(input_vec, scaling_factor, neg_vals))\n",
    "        if scaling_factor == 1:\n",
    "            result += f\"{input} & ${input_state}$ & ${output_state}$ & {output} \\\\\\\\\\n\"\n",
    "        else:\n",
    "            result += f\"${input_state}$ & ${output_state}$ \\\\\\\\\\n\"\n",
    "    print(result)\n",
    "\n",
    "\n",
    "vals2 = [\n",
    "    {\"input\": \"$0$\"           , \"input_vec\": [1, 0, 0, 0, 0, 0, 0, 0], \"output\": \"undefined\"},       # |0>|00>\n",
    "    {\"input\": \"$\\\\frac{1}{4}$\", \"input_vec\": [0, 1, 0, 0, 0, 0, 0, 0], \"output\": \"$1$\"},             # |0>|01>\n",
    "    {\"input\": \"$\\\\frac{1}{2}$\", \"input_vec\": [0, 0, 1, 0, 0, 0, 0, 0], \"output\": \"$\\\\frac{1}{2}$\"},  # |0>|10>\n",
    "    {\"input\": \"$\\\\frac{3}{4}$\", \"input_vec\": [0, 0, 0, 1, 0, 0, 0, 0], \"output\": \"$\\\\frac{1}{3}$\"},  # |0>|11>\n",
    "    {\"input\": \"(N/A)\"         , \"input_vec\": [0, 0, 0, 0, 1, 0, 0, 0], \"output\": \"\"},                # |1>|00>\n",
    "    {\"input\": \"(N/A)\"         , \"input_vec\": [0, 0, 0, 0, 0, 1, 0, 0], \"output\": \"\"},                # |1>|01>\n",
    "    {\"input\": \"(N/A)\"         , \"input_vec\": [0, 0, 0, 0, 0, 0, 1, 0], \"output\": \"\"},                # |1>|10>\n",
    "    {\"input\": \"(N/A)\"         , \"input_vec\": [0, 0, 0, 0, 0, 0, 0, 1], \"output\": \"\"},                # |1>|11>\n",
    "]\n",
    "\n",
    "vals3 = [\n",
    "    {\"input\": \"$0$\"           , \"input_vec\": [1, 0, 0, 0, 0, 0, 0, 0, 0, 0, 0, 0, 0, 0, 0, 0], \"output\": \"undefined\"},      # |0>|000>\n",
    "    {\"input\": \"$\\\\frac{1}{8}$\", \"input_vec\": [0, 1, 0, 0, 0, 0, 0, 0, 0, 0, 0, 0, 0, 0, 0, 0], \"output\": \"$1$\"},            # |0>|001>\n",
    "    {\"input\": \"$\\\\frac{1}{4}$\", \"input_vec\": [0, 0, 1, 0, 0, 0, 0, 0, 0, 0, 0, 0, 0, 0, 0, 0], \"output\": \"$\\\\frac{1}{2}$\"}, # |0>|010>\n",
    "    {\"input\": \"$\\\\frac{3}{8}$\", \"input_vec\": [0, 0, 0, 1, 0, 0, 0, 0, 0, 0, 0, 0, 0, 0, 0, 0], \"output\": \"$\\\\frac{1}{3}$\"}, # |0>|011>\n",
    "    {\"input\": \"$\\\\frac{1}{2}$\", \"input_vec\": [0, 0, 0, 0, 1, 0, 0, 0, 0, 0, 0, 0, 0, 0, 0, 0], \"output\": \"$\\\\frac{1}{4}$\"}, # |0>|100>\n",
    "    {\"input\": \"$\\\\frac{5}{8}$\", \"input_vec\": [0, 0, 0, 0, 0, 1, 0, 0, 0, 0, 0, 0, 0, 0, 0, 0], \"output\": \"$\\\\frac{1}{5}$\"}, # |0>|101>\n",
    "    {\"input\": \"$\\\\frac{3}{4}$\", \"input_vec\": [0, 0, 0, 0, 0, 0, 1, 0, 0, 0, 0, 0, 0, 0, 0, 0], \"output\": \"$\\\\frac{1}{6}$\"}, # |0>|110>\n",
    "    {\"input\": \"$\\\\frac{7}{8}$\", \"input_vec\": [0, 0, 0, 0, 0, 0, 0, 1, 0, 0, 0, 0, 0, 0, 0, 0], \"output\": \"$\\\\frac{1}{7}$\"}, # |0>|111>\n",
    "    {\"input\": \"(N/A)\"         , \"input_vec\": [0, 0, 0, 0, 0, 0, 0, 0, 1, 0, 0, 0, 0, 0, 0, 0], \"output\": \"\"},               # |1>|000>\n",
    "    {\"input\": \"(N/A)\"         , \"input_vec\": [0, 0, 0, 0, 0, 0, 0, 0, 0, 1, 0, 0, 0, 0, 0, 0], \"output\": \"\"},               # |1>|001>\n",
    "    {\"input\": \"(N/A)\"         , \"input_vec\": [0, 0, 0, 0, 0, 0, 0, 0, 0, 0, 1, 0, 0, 0, 0, 0], \"output\": \"\"},               # |1>|010>\n",
    "    {\"input\": \"(N/A)\"         , \"input_vec\": [0, 0, 0, 0, 0, 0, 0, 0, 0, 0, 0, 1, 0, 0, 0, 0], \"output\": \"\"},               # |1>|011>\n",
    "    {\"input\": \"(N/A)\"         , \"input_vec\": [0, 0, 0, 0, 0, 0, 0, 0, 0, 0, 0, 0, 1, 0, 0, 0], \"output\": \"\"},               # |1>|100>\n",
    "    {\"input\": \"(N/A)\"         , \"input_vec\": [0, 0, 0, 0, 0, 0, 0, 0, 0, 0, 0, 0, 0, 1, 0, 0], \"output\": \"\"},               # |1>|101>\n",
    "    {\"input\": \"(N/A)\"         , \"input_vec\": [0, 0, 0, 0, 0, 0, 0, 0, 0, 0, 0, 0, 0, 0, 1, 0], \"output\": \"\"},               # |1>|110>\n",
    "    {\"input\": \"(N/A)\"         , \"input_vec\": [0, 0, 0, 0, 0, 0, 0, 0, 0, 0, 0, 0, 0, 0, 0, 1], \"output\": \"\"},               # |1>|111>\n",
    "]"
   ]
  },
  {
   "cell_type": "markdown",
   "metadata": {},
   "source": [
    "## ExactReciprocal for 2 qubits\n",
    "\n",
    "The table below shows the inputs and outputs of `ExactReciprocal` for 2 qubits, with default scaling and no negative values."
   ]
  },
  {
   "cell_type": "code",
   "execution_count": 2,
   "metadata": {},
   "outputs": [
    {
     "data": {
      "text/markdown": [
       "\n",
       "| Input $x$ | Input State | Output State | Output $\\frac{s}{x}$ |\n",
       "|-----------|-------------|--------------|---------------------------|\n",
       "| $0$ | $$ \\|000\\rangle$$ | $$ \\|000\\rangle$$ | undefined | \n",
       "| $\\frac{1}{4}$ | $$ \\|001\\rangle$$ | $$ \\|101\\rangle$$ | $1$ | \n",
       "| $\\frac{1}{2}$ | $$ \\|010\\rangle$$ | $$\\frac{\\sqrt{3}}{2} \\|010\\rangle+\\frac{1}{2} \\|110\\rangle$$ | $\\frac{1}{2}$ | \n",
       "| $\\frac{3}{4}$ | $$ \\|011\\rangle$$ | $$\\frac{2 \\sqrt{2}}{3} \\|011\\rangle+\\frac{1}{3} \\|111\\rangle$$ | $\\frac{1}{3}$ | \n",
       "| (N/A) | $$ \\|100\\rangle$$ | $$ \\|100\\rangle$$ |  | \n",
       "| (N/A) | $$ \\|101\\rangle$$ | $$- \\|001\\rangle$$ |  | \n",
       "| (N/A) | $$ \\|110\\rangle$$ | $$- \\frac{1}{2} \\|010\\rangle+\\frac{\\sqrt{3}}{2} \\|110\\rangle$$ |  | \n",
       "| (N/A) | $$ \\|111\\rangle$$ | $$- \\frac{1}{3} \\|011\\rangle+\\frac{2 \\sqrt{2}}{3} \\|111\\rangle$$ |  | \n"
      ],
      "text/plain": [
       "<IPython.core.display.Markdown object>"
      ]
     },
     "metadata": {},
     "output_type": "display_data"
    }
   ],
   "source": [
    "run_table(vals2)"
   ]
  },
  {
   "cell_type": "markdown",
   "metadata": {},
   "source": [
    "## ExactReciprocal for 3 qubits\n",
    "\n",
    "The table below shows the inputs and outputs of `ExactReciprocal` for 3 qubits, with default scaling and no negative values."
   ]
  },
  {
   "cell_type": "code",
   "execution_count": 3,
   "metadata": {},
   "outputs": [
    {
     "data": {
      "text/markdown": [
       "\n",
       "| Input $x$ | Input State | Output State | Output $\\frac{s}{x}$ |\n",
       "|-----------|-------------|--------------|---------------------------|\n",
       "| $0$ | $$ \\|0000\\rangle$$ | $$ \\|0000\\rangle$$ | undefined | \n",
       "| $\\frac{1}{8}$ | $$ \\|0001\\rangle$$ | $$ \\|1001\\rangle$$ | $1$ | \n",
       "| $\\frac{1}{4}$ | $$ \\|0010\\rangle$$ | $$\\frac{\\sqrt{3}}{2} \\|0010\\rangle+\\frac{1}{2} \\|1010\\rangle$$ | $\\frac{1}{2}$ | \n",
       "| $\\frac{3}{8}$ | $$ \\|0011\\rangle$$ | $$\\frac{2 \\sqrt{2}}{3} \\|0011\\rangle+\\frac{1}{3} \\|1011\\rangle$$ | $\\frac{1}{3}$ | \n",
       "| $\\frac{1}{2}$ | $$ \\|0100\\rangle$$ | $$\\frac{\\sqrt{15}}{4} \\|0100\\rangle+\\frac{1}{4} \\|1100\\rangle$$ | $\\frac{1}{4}$ | \n",
       "| $\\frac{5}{8}$ | $$ \\|0101\\rangle$$ | $$0.9797958971 \\|0101\\rangle+\\frac{1}{5} \\|1101\\rangle$$ | $\\frac{1}{5}$ | \n",
       "| $\\frac{3}{4}$ | $$ \\|0110\\rangle$$ | $$0.9860132972 \\|0110\\rangle+\\frac{1}{6} \\|1110\\rangle$$ | $\\frac{1}{6}$ | \n",
       "| $\\frac{7}{8}$ | $$ \\|0111\\rangle$$ | $$0.9897433186 \\|0111\\rangle+\\frac{1}{7} \\|1111\\rangle$$ | $\\frac{1}{7}$ | \n",
       "| (N/A) | $$ \\|1000\\rangle$$ | $$ \\|1000\\rangle$$ |  | \n",
       "| (N/A) | $$ \\|1001\\rangle$$ | $$- \\|0001\\rangle$$ |  | \n",
       "| (N/A) | $$ \\|1010\\rangle$$ | $$- \\frac{1}{2} \\|0010\\rangle+\\frac{\\sqrt{3}}{2} \\|1010\\rangle$$ |  | \n",
       "| (N/A) | $$ \\|1011\\rangle$$ | $$- \\frac{1}{3} \\|0011\\rangle+\\frac{2 \\sqrt{2}}{3} \\|1011\\rangle$$ |  | \n",
       "| (N/A) | $$ \\|1100\\rangle$$ | $$- \\frac{1}{4} \\|0100\\rangle+\\frac{\\sqrt{15}}{4} \\|1100\\rangle$$ |  | \n",
       "| (N/A) | $$ \\|1101\\rangle$$ | $$- \\frac{1}{5} \\|0101\\rangle+0.9797958971 \\|1101\\rangle$$ |  | \n",
       "| (N/A) | $$ \\|1110\\rangle$$ | $$- \\frac{1}{6} \\|0110\\rangle+0.9860132972 \\|1110\\rangle$$ |  | \n",
       "| (N/A) | $$ \\|1111\\rangle$$ | $$- \\frac{1}{7} \\|0111\\rangle+0.9897433186 \\|1111\\rangle$$ |  | \n"
      ],
      "text/plain": [
       "<IPython.core.display.Markdown object>"
      ]
     },
     "metadata": {},
     "output_type": "display_data"
    }
   ],
   "source": [
    "run_table(vals3)"
   ]
  },
  {
   "cell_type": "markdown",
   "metadata": {},
   "source": [
    "# Diagrams\n",
    "\n",
    "The `ExactReciprocal` implementation composes a circuit, and then makes the component available by creating a gate that encapsulates the circuit.\n",
    "The code snippet below shows how this is done:\n",
    "\n",
    "```python\n",
    "    super().__init__(*circuit.qregs, name=name)\n",
    "    self.compose(circuit.to_gate(), qubits=self.qubits, inplace=True)\n",
    "```\n",
    "\n",
    "Because of this, when we render a circuit containing an `ExactReciprocal` gate, we see a single gate, and not the internal structure.\n",
    "The cell below shows the 2-qubit `ExactReciprocal` as a single gate as created by the Qiskit library.\n",
    "\n",
    "To examine the internal structure in more detail, we can copy the Qiskit source code and modify it.\n",
    "The next cell shows the implementation of `ExactReciprocal` in terms of the Qiskit `UCRYGate`. \n",
    "This is actually not much of an improvement, although it does show the rotation angles: 0, $\\pi$, $\\pi/3$ and $0.68=2\\sin^{-1}(1/3)$.\n",
    "\n",
    "To get more detail, we could try the same approach with the `UCRYGate` source code, but this leads us quickly down into the internal depths of the Qiskit library.\n",
    "Instead, we can code the circuit explicitly using the analysis from the Project report."
   ]
  },
  {
   "cell_type": "code",
   "execution_count": 20,
   "metadata": {},
   "outputs": [
    {
     "data": {
      "text/markdown": [
       "# ExactReciprocal as rendered by Qiskit library"
      ],
      "text/plain": [
       "<IPython.core.display.Markdown object>"
      ]
     },
     "metadata": {},
     "output_type": "display_data"
    },
    {
     "data": {
      "image/png": "[encoded data removed]",
      "text/plain": [
       "<Figure size 509.401x284.278 with 1 Axes>"
      ]
     },
     "metadata": {},
     "output_type": "display_data"
    }
   ],
   "source": [
    "num_qubits = 3\n",
    "num_state_qubits = num_qubits - 1\n",
    "scaling = 2**(-num_state_qubits)\n",
    "qr_state = QuantumRegister(num_state_qubits, \"state\")\n",
    "qr_flag = QuantumRegister(1, \"flag\")\n",
    "circuit = QuantumCircuit(qr_state, qr_flag, name=\"1/x\")\n",
    "circuit.append(StatePreparation([1, 0, 0, 0]), qr_state)\n",
    "exact_reciprocal = ExactReciprocal(num_state_qubits=num_state_qubits, scaling=scaling, neg_vals=False)\n",
    "circuit.append(exact_reciprocal, circuit.qubits)\n",
    "display(Markdown(\"# ExactReciprocal as rendered by Qiskit library\"))\n",
    "display(circuit.draw(output='mpl'))"
   ]
  },
  {
   "cell_type": "code",
   "execution_count": 21,
   "metadata": {},
   "outputs": [
    {
     "data": {
      "text/markdown": [
       "# ExactReciprocal as rendered by UCRYGate"
      ],
      "text/plain": [
       "<IPython.core.display.Markdown object>"
      ]
     },
     "metadata": {},
     "output_type": "display_data"
    },
    {
     "data": {
      "image/png": "[encoded data removed]",
      "text/plain": [
       "<Figure size 593.012x284.278 with 1 Axes>"
      ]
     },
     "metadata": {},
     "output_type": "display_data"
    }
   ],
   "source": [
    "from math import isclose\n",
    "from qiskit.circuit.library.generalized_gates import UCRYGate\n",
    "\n",
    "num_qubits = 3\n",
    "num_state_qubits = num_qubits - 1\n",
    "scaling = 2**(-num_state_qubits)\n",
    "qr_state = QuantumRegister(num_state_qubits, \"state\")\n",
    "qr_flag = QuantumRegister(1, \"flag\")\n",
    "circuit = QuantumCircuit(qr_state, qr_flag, name=\"1/x\")\n",
    "circuit.append(StatePreparation([1, 0, 0, 0]), qr_state)\n",
    "angles = [0.0]\n",
    "nl = 2**num_state_qubits\n",
    "for i in range(1, nl):\n",
    "    if isclose(scaling * nl / i, 1, abs_tol=1e-5):\n",
    "        angles.append(np.pi)\n",
    "    elif scaling * nl / i < 1:\n",
    "        angles.append(2 * np.arcsin(scaling * nl / i))\n",
    "    else:\n",
    "        angles.append(0.0)\n",
    "circuit.compose(\n",
    "    UCRYGate(angles), [qr_flag[0]] + qr_state[: len(qr_state)], inplace=True\n",
    ")\n",
    "display(Markdown(\"# ExactReciprocal as rendered by UCRYGate\"))\n",
    "display(circuit.draw(output='mpl'))\n"
   ]
  },
  {
   "cell_type": "code",
   "execution_count": 28,
   "metadata": {},
   "outputs": [
    {
     "data": {
      "text/markdown": [
       "# ExactReciprocal using CRY Gates"
      ],
      "text/plain": [
       "<IPython.core.display.Markdown object>"
      ]
     },
     "metadata": {},
     "output_type": "display_data"
    },
    {
     "data": {
      "image/png": "[encoded data removed]",
      "text/plain": [
       "<Figure size 676.623x284.278 with 1 Axes>"
      ]
     },
     "metadata": {},
     "output_type": "display_data"
    }
   ],
   "source": [
    "from qiskit.circuit.library import RYGate\n",
    "\n",
    "num_qubits = 3\n",
    "num_state_qubits = num_qubits - 1\n",
    "scaling = 2**(-num_state_qubits)\n",
    "qr_state = QuantumRegister(num_state_qubits, \"state\")\n",
    "qr_flag = QuantumRegister(1, \"flag\")\n",
    "circuit = QuantumCircuit(qr_state, qr_flag, name=\"1/x\")\n",
    "circuit.append(StatePreparation([1, 0, 0, 0]), qr_state)\n",
    "nl = 2**num_state_qubits\n",
    "\n",
    "for i in range(1, nl):\n",
    "    if isclose(scaling * nl / i, 1, abs_tol=1e-5):\n",
    "        angle = np.pi\n",
    "    elif scaling * nl / i < 1:\n",
    "        angle = 2 * np.arcsin(scaling * nl / i)\n",
    "    else:\n",
    "        angle = 0.0\n",
    "\n",
    "    bits = f\"{i:0{num_state_qubits}b}\"\n",
    "    RYi = RYGate(angle).control(num_state_qubits, ctrl_state=bits)\n",
    "    circuit.append(RYi, [*qr_state, qr_flag[0]])\n",
    "\n",
    "display(Markdown(\"# ExactReciprocal using CRY Gates\"))\n",
    "display(circuit.draw(output='mpl'))\n"
   ]
  },
  {
   "cell_type": "code",
   "execution_count": null,
   "metadata": {},
   "outputs": [
    {
     "data": {
      "text/markdown": [
       "# Verification of ExactReciprocal with CRY Gates"
      ],
      "text/plain": [
       "<IPython.core.display.Markdown object>"
      ]
     },
     "metadata": {},
     "output_type": "display_data"
    },
    {
     "data": {
      "text/markdown": [
       "\n",
       "| Input $x$ | Input State | Output State | Output $\\frac{s}{x}$ |\n",
       "|-----------|-------------|--------------|---------------------------|\n",
       "| $0$ | $$ \\|000\\rangle$$ | $$ \\|000\\rangle$$ | undefined | \n",
       "| $\\frac{1}{4}$ | $$ \\|001\\rangle$$ | $$ \\|101\\rangle$$ | $1$ | \n",
       "| $\\frac{1}{2}$ | $$ \\|010\\rangle$$ | $$\\frac{\\sqrt{3}}{2} \\|010\\rangle+\\frac{1}{2} \\|110\\rangle$$ | $\\frac{1}{2}$ | \n",
       "| $\\frac{3}{4}$ | $$ \\|011\\rangle$$ | $$\\frac{2 \\sqrt{2}}{3} \\|011\\rangle+\\frac{1}{3} \\|111\\rangle$$ | $\\frac{1}{3}$ | \n"
      ],
      "text/plain": [
       "<IPython.core.display.Markdown object>"
      ]
     },
     "metadata": {},
     "output_type": "display_data"
    }
   ],
   "source": [
    "def create_input_circuit(input):\n",
    "    num_qubits = 3\n",
    "    num_state_qubits = num_qubits - 1\n",
    "    scaling = 2**(-num_state_qubits)\n",
    "    qr_state = QuantumRegister(num_state_qubits, \"state\")\n",
    "    qr_flag = QuantumRegister(1, \"flag\")\n",
    "    circuit = QuantumCircuit(qr_state, qr_flag, name=\"1/x\")\n",
    "    circuit.append(StatePreparation(input), qr_state)\n",
    "    return circuit\n",
    "\n",
    "def create_exact_reciprocal_circuit(input):\n",
    "    num_qubits = 3\n",
    "    num_state_qubits = num_qubits - 1\n",
    "    scaling = 2**(-num_state_qubits)\n",
    "    qr_state = QuantumRegister(num_state_qubits, \"state\")\n",
    "    qr_flag = QuantumRegister(1, \"flag\")\n",
    "    circuit = QuantumCircuit(qr_state, qr_flag, name=\"1/x\")\n",
    "    circuit.append(StatePreparation(input), qr_state)\n",
    "    nl = 2**num_state_qubits\n",
    "\n",
    "    for i in range(1, nl):\n",
    "        bits = f\"{i:0{num_state_qubits}b}\"\n",
    "        if isclose(scaling * nl / i, 1, abs_tol=1e-5):\n",
    "            angle = np.pi\n",
    "        elif scaling * nl / i < 1:\n",
    "            angle = 2 * np.arcsin(scaling * nl / i)\n",
    "        else:\n",
    "            angle = 0.0\n",
    "\n",
    "        RYi = RYGate(angle).control(num_state_qubits, ctrl_state=bits)\n",
    "        circuit.append(RYi, [*qr_state, qr_flag[0]])\n",
    "    return circuit\n",
    "\n",
    "\n",
    "vals2 = [\n",
    "    {\"input\": \"$0$\"           , \"input_vec\": [1, 0, 0, 0], \"output\": \"undefined\"},       # |0>|00>\n",
    "    {\"input\": \"$\\\\frac{1}{4}$\", \"input_vec\": [0, 1, 0, 0], \"output\": \"$1$\"},             # |0>|01>\n",
    "    {\"input\": \"$\\\\frac{1}{2}$\", \"input_vec\": [0, 0, 1, 0], \"output\": \"$\\\\frac{1}{2}$\"},  # |0>|10>\n",
    "    {\"input\": \"$\\\\frac{3}{4}$\", \"input_vec\": [0, 0, 0, 1], \"output\": \"$\\\\frac{1}{3}$\"},  # |0>|11>\n",
    "]\n",
    "\n",
    "markdowntable = f\"\"\"\n",
    "| Input $x$ | Input State | Output State | Output $\\\\frac{{s}}{{x}}$ |\n",
    "|-----------|-------------|--------------|---------------------------|\n",
    "\"\"\"\n",
    "for val in vals2:\n",
    "    input = val[\"input\"]\n",
    "    input_vec = val[\"input_vec\"]\n",
    "    output = val[\"output\"]\n",
    "    input_state = latex_circuit_output(create_input_circuit(input_vec))\n",
    "    output_state = latex_circuit_output(create_exact_reciprocal_circuit(input_vec))\n",
    "    markdowntable += f\"| {input} | {input_state} | {output_state} | {output} | \\n\"\n",
    "display(Markdown(\"# Verification of ExactReciprocal with CRY Gates\"))\n",
    "display(Markdown(markdowntable))\n"
   ]
  }
 ],
 "metadata": {
  "kernelspec": {
   "display_name": "venv",
   "language": "python",
   "name": "python3"
  },
  "language_info": {
   "codemirror_mode": {
    "name": "ipython",
    "version": 3
   },
   "file_extension": ".py",
   "mimetype": "text/x-python",
   "name": "python",
   "nbconvert_exporter": "python",
   "pygments_lexer": "ipython3",
   "version": "3.10.12"
  }
 },
 "nbformat": 4,
 "nbformat_minor": 2
}
