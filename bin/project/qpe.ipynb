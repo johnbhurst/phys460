{
 "cells": [
  {
   "cell_type": "markdown",
   "metadata": {},
   "source": [
    "# Quantum Phase Estimation\n",
    "\n",
    "This notebook demonstrates the Qiskit `PhaseEstimation` component.\n",
    "\n",
    "* [Qiskit HamiltonianGate documentation](https://docs.quantum.ibm.com/api/qiskit/qiskit.circuit.library.HamiltonianGate)\n",
    "* [Qiskit PhaseEstimation documentation](https://docs.quantum.ibm.com/api/qiskit/qiskit.circuit.library.PhaseEstimation)\n",
    "\n",
    "From the documentation:\n",
    "\n",
    "In the Quantum Phase Estimation (QPE) algorithm, the Phase Estimation circuit is used to estimazte the phase $\\phi$ of an eigenvalue $e^{2\\pi i \\phi}$ of a unitary operator $U$, provided with the corresponding eigenstate $|\\psi\\rangle$. That is\n",
    "$$\n",
    "U|\\psi\\rangle = e^{2\\pi i \\phi}|\\psi\\rangle.\n",
    "$$\n",
    "This estimation (eand thereby this circuit) is a central routine to several well-known algorithms, such as Shor's algorithm or Quantum Amplitude Estimation."
   ]
  },
  {
   "cell_type": "code",
   "execution_count": 42,
   "metadata": {},
   "outputs": [
    {
     "data": {
      "text/markdown": [
       "| Operator | Eigenvector | Input statevector | Output statevector |\n",
       "| --- | --- | --- | --- |\n",
       "| $Z$ | $z_0$ | $$ \\|100\\rangle$$ | $$ \\|111\\rangle$$ |\n",
       "| $Z$ | $z_1$ | $$ \\|000\\rangle$$ | $$ \\|010\\rangle$$ |\n",
       "| $Y$ | $y_0$ | $$\\frac{\\sqrt{2}}{2} \\|000\\rangle- \\frac{\\sqrt{2} i}{2} \\|100\\rangle$$ | $$\\frac{\\sqrt{2}}{2} \\|011\\rangle- \\frac{\\sqrt{2} i}{2} \\|111\\rangle$$ |\n",
       "| $Y$ | $y_1$ | $$\\frac{\\sqrt{2}}{2} \\|000\\rangle+\\frac{\\sqrt{2} i}{2} \\|100\\rangle$$ | $$\\frac{\\sqrt{2}}{2} \\|010\\rangle+\\frac{\\sqrt{2} i}{2} \\|110\\rangle$$ |\n"
      ],
      "text/plain": [
       "<IPython.core.display.Markdown object>"
      ]
     },
     "metadata": {},
     "output_type": "display_data"
    }
   ],
   "source": [
    "import math\n",
    "import numpy as np\n",
    "from IPython.display import display, Markdown\n",
    "from math import log2\n",
    "from qiskit import ClassicalRegister, QuantumCircuit, QuantumRegister, transpile\n",
    "from qiskit_aer import Aer\n",
    "from qiskit.circuit.library import HamiltonianGate, PhaseEstimation, QFT, StatePreparation\n",
    "from qiskit.quantum_info import Statevector\n",
    "from qiskit.visualization.library import _generate_circuit_library_visualization\n",
    "\n",
    "π = math.pi\n",
    "# Pauli matrices: the operators\n",
    "X = np.array([[0, 1], [1, 0]])\n",
    "Y = np.array([[0, -1j], [1j, 0]])\n",
    "Z = np.array([[1, 0], [0, -1]])\n",
    "\n",
    "# Eigenvectors of Z\n",
    "z0 = np.array([0, 1])\n",
    "z1 = np.array([1, 0])\n",
    "# Eigenvectors of Y\n",
    "y0 = np.array([1, -1j]) / np.sqrt(2)\n",
    "y1 = np.array([1, 1j]) / np.sqrt(2)\n",
    "\n",
    "def make_circuit(op, e, apply_qpe=True):\n",
    "    U = HamiltonianGate(op, -π/2, label='U')\n",
    "    circuit = QuantumCircuit(3)\n",
    "    circuit.append(StatePreparation(Statevector(e)), [2])\n",
    "    if apply_qpe:\n",
    "        qpe = PhaseEstimation(2, U)\n",
    "        # _generate_circuit_library_visualization(qpe)\n",
    "        circuit.append(qpe, [0, 1, 2])\n",
    "    return circuit\n",
    "\n",
    "def run_statevector(circuit):\n",
    "    simulator = Aer.get_backend('statevector_simulator')\n",
    "    aer_circuit = transpile(circuit, simulator)\n",
    "    result_statevector = simulator.run(aer_circuit).result().get_statevector()\n",
    "    return result_statevector\n",
    "\n",
    "def escape_statevector(sv):\n",
    "    return sv.draw('latex').data.replace('|', r'\\|')\n",
    "\n",
    "data = [\n",
    "    {'opname': 'Z', 'ename': 'z_0', 'op': Z, 'e': z0},\n",
    "    {'opname': 'Z', 'ename': 'z_1', 'op': Z, 'e': z1},\n",
    "    {'opname': 'Y', 'ename': 'y_0', 'op': Y, 'e': y0},\n",
    "    {'opname': 'Y', 'ename': 'y_1', 'op': Y, 'e': y1},\n",
    "]\n",
    "\n",
    "# make_circuit(Z, z0).draw('mpl')\n",
    "\n",
    "table = \"| Operator | Eigenvector | Input statevector | Output statevector |\\n\"\n",
    "table += \"| --- | --- | --- | --- |\\n\"\n",
    "for d in data:\n",
    "    opname = d['opname']\n",
    "    ename = d['ename']\n",
    "    input_statevector = escape_statevector(run_statevector(make_circuit(d['op'], d['e'], apply_qpe=False)))\n",
    "    output_statevector = escape_statevector(run_statevector(make_circuit(d['op'], d['e'])))\n",
    "    table += f\"| ${opname}$ | ${ename}$ | {input_statevector} | {output_statevector} |\\n\"\n",
    "display(Markdown(table))\n"
   ]
  },
  {
   "cell_type": "code",
   "execution_count": 53,
   "metadata": {},
   "outputs": [
    {
     "data": {
      "text/markdown": [
       "$$ \\|101\\rangle$$"
      ],
      "text/plain": [
       "<IPython.core.display.Markdown object>"
      ]
     },
     "metadata": {},
     "output_type": "display_data"
    }
   ],
   "source": [
    "input_qubit = 0\n",
    "n = 2\n",
    "qubits = QuantumRegister(n+1, \"q\")\n",
    "clbits = ClassicalRegister(n, \"c\")\n",
    "circuit = QuantumCircuit(qubits, clbits)\n",
    "circuit.x(input_qubit) # for eigenvector |1>\n",
    "for i in range(n):\n",
    "    circuit.h(i+1)\n",
    "for i in range(n):\n",
    "    if n-i == 1:\n",
    "        circuit.cz(n-i, input_qubit)\n",
    "circuit.append(QFT(n).inverse(), qubits[1:])\n",
    "fig = circuit.draw('mpl')\n",
    "sv = run_statevector(circuit)\n",
    "display(Markdown(escape_statevector(sv)))\n"
   ]
  },
  {
   "cell_type": "code",
   "execution_count": 57,
   "metadata": {},
   "outputs": [
    {
     "data": {
      "text/markdown": [
       "$$\\frac{\\sqrt{2}}{2} \\|000\\rangle+\\frac{\\sqrt{2} i}{2} \\|001\\rangle$$"
      ],
      "text/plain": [
       "<IPython.core.display.Markdown object>"
      ]
     },
     "metadata": {},
     "output_type": "display_data"
    }
   ],
   "source": [
    "input_qubit = 0\n",
    "n = 2\n",
    "qubits = QuantumRegister(n+1, \"q\")\n",
    "clbits = ClassicalRegister(n, \"c\")\n",
    "circuit = QuantumCircuit(qubits, clbits)\n",
    "# circuit.rx(math.pi/2, input_qubit)\n",
    "circuit.rx(-math.pi/2, input_qubit)\n",
    "for i in range(n):\n",
    "    circuit.h(i+1)\n",
    "for i in range(n):\n",
    "    if n-i == 1:\n",
    "        circuit.cy(n-i, input_qubit)\n",
    "circuit.append(QFT(n).inverse(), qubits[1:])\n",
    "fig = circuit.draw('mpl')\n",
    "sv = run_statevector(circuit)\n",
    "display(Markdown(escape_statevector(sv)))"
   ]
  },
  {
   "cell_type": "code",
   "execution_count": null,
   "metadata": {},
   "outputs": [],
   "source": [
    "data = [\n",
    "    {'operator': 'Z', 'eigenvector': z0},\n",
    "    {'operator': 'Z', 'eigenvector': z1},\n",
    "    {'operator': 'Y', 'eigenvector': y0},\n",
    "    {'operator': 'Y', 'eigenvector': y1},\n",
    "]\n",
    "\n",
    "def run_phase_estimation(operator, eigenvector, apply_qpe=True):\n",
    "    n = 2\n",
    "    qubits = QuantumRegister(n+1, \"q\")\n",
    "    clbits = ClassicalRegister(n, \"c\")\n",
    "    circuit = QuantumCircuit(qubits, clbits)\n",
    "    circuit.append(StatePreparation(eigenvector), [0])\n",
    "    if apply_qpe:\n",
    "        for i in range(n):\n",
    "            circuit.h(i+1)\n",
    "        for i in range(n):\n",
    "            if operator == 'Z':\n",
    "                if n-i == 1:\n",
    "                    circuit.cz(n-i, input_qubit)\n",
    "            elif operator == 'Y':\n",
    "                if n-i == 1:\n",
    "                    circuit.cy(n-i, 0)\n",
    "            else:\n",
    "                raise ValueError(f\"Unknown operator: {operator}\")\n",
    "        circuit.append(QFT(n).inverse(), qubits[1:])\n",
    "    return run_statevector(circuit)\n",
    "\n",
    "table = \"| Operator | Input statevector | Output statevector |\\n\"\n",
    "table += \"| --- | --- | --- |\\n\"\n",
    "for d in data:\n",
    "    operator = d['operator']\n",
    "    eigenvector = d['eigenvector']\n",
    "    input_statevector = escape_statevector(run_phase_estimation(operator, eigenvector, apply_qpe=False))\n",
    "    output_statevector = escape_statevector(run_phase_estimation(operator, eigenvector))\n",
    "    table += f\"| ${operator}$ | {input_statevector} | {output_statevector} |\\n\"\n",
    "display(Markdown(table))"
   ]
  }
 ],
 "metadata": {
  "kernelspec": {
   "display_name": "venv",
   "language": "python",
   "name": "python3"
  },
  "language_info": {
   "codemirror_mode": {
    "name": "ipython",
    "version": 3
   },
   "file_extension": ".py",
   "mimetype": "text/x-python",
   "name": "python",
   "nbconvert_exporter": "python",
   "pygments_lexer": "ipython3",
   "version": "3.10.12"
  }
 },
 "nbformat": 4,
 "nbformat_minor": 2
}
