{
 "cells": [
  {
   "cell_type": "markdown",
   "metadata": {},
   "source": [
    "# Quantum Phase Estimation\n",
    "\n",
    "This notebook demonstrates the Qiskit `PhaseEstimation` component.\n",
    "\n",
    "* [Qiskit PhaseEstimation documentation](https://docs.quantum.ibm.com/api/qiskit/qiskit.circuit.library.PhaseEstimation)\n",
    "\n",
    "From the documentation:\n",
    "\n",
    "In the Quantum Phase Estimation (QPE) algorithm, the Phase Estimation circuit is used to estimate the phase $\\phi$ of an eigenvalue $e^{2\\pi i \\phi}$ of a unitary operator $U$, provided with the corresponding eigenstate $|\\psi\\rangle$. That is\n",
    "$$\n",
    "U|\\psi\\rangle = e^{2\\pi i \\phi}|\\psi\\rangle.\n",
    "$$\n",
    "This estimation (eand thereby this circuit) is a central routine to several well-known algorithms, such as Shor's algorithm or Quantum Amplitude Estimation."
   ]
  },
  {
   "cell_type": "code",
   "execution_count": null,
   "metadata": {},
   "outputs": [],
   "source": [
    "# Imports and initialization\n",
    "\n",
    "import math\n",
    "import numpy as np\n",
    "from IPython.display import display, Markdown\n",
    "from qiskit import QuantumCircuit, transpile\n",
    "from qiskit_aer import Aer\n",
    "from qiskit.circuit.library import PhaseEstimation, StatePreparation, XGate, YGate, ZGate\n",
    "\n",
    "π = math.pi\n",
    "\n",
    "# Pauli  operators\n",
    "X = XGate()\n",
    "Y = YGate()\n",
    "Z = ZGate()\n",
    "\n",
    "# Eigenvectors of Z\n",
    "z0 = np.array([0, 1])\n",
    "z1 = np.array([1, 0])\n",
    "# Eigenvectors of Y\n",
    "y0 = np.array([1, -1j]) / np.sqrt(2)\n",
    "y1 = np.array([1, 1j]) / np.sqrt(2)"
   ]
  },
  {
   "cell_type": "code",
   "execution_count": 66,
   "metadata": {},
   "outputs": [
    {
     "data": {
      "text/markdown": [
       "# Sample circuit for $Z$"
      ],
      "text/plain": [
       "<IPython.core.display.Markdown object>"
      ]
     },
     "metadata": {},
     "output_type": "display_data"
    },
    {
     "data": {
      "image/png": "[encoded data removed]",
      "text/plain": [
       "<Figure size 454.719x284.278 with 1 Axes>"
      ]
     },
     "metadata": {},
     "output_type": "display_data"
    }
   ],
   "source": [
    "# Functions\n",
    "\n",
    "def run_statevector(circuit):\n",
    "    \"\"\"Runs the circuit and returns the result as a statevector.\"\"\"\n",
    "    simulator = Aer.get_backend('statevector_simulator')\n",
    "    aer_circuit = transpile(circuit, simulator)\n",
    "    result_statevector = simulator.run(aer_circuit).result().get_statevector()\n",
    "    return result_statevector\n",
    "\n",
    "def markdown_statevector(sv):\n",
    "    \"\"\"Returns the statevector in markdown format.\"\"\"\n",
    "    return sv.draw('latex').data\n",
    "\n",
    "def markdown_table_statevector(sv):\n",
    "    \"\"\"Returns the statevector in markdown format, with '|' replaced by '\\|', for use in tables.\"\"\"\n",
    "    return markdown_statevector(sv).replace('|', r'\\|')\n",
    "\n",
    "def qpe_circuit(operator, eigenvector, apply_qpe=True):\n",
    "    \"\"\"Returns a circuit that prepares the eigenvector of the operator and applies the Quantum Phase Estimation algorithm.\"\"\"\n",
    "    circuit = QuantumCircuit(3)\n",
    "    circuit.append(StatePreparation(eigenvector), [0])\n",
    "    if apply_qpe:\n",
    "        qpe = PhaseEstimation(2, operator)\n",
    "        circuit.append(qpe, [2, 1, 0])\n",
    "    return circuit\n",
    "\n",
    "def display_qpe_circuit(operator, eigenvector, title):\n",
    "    \"\"\"Displays the circuit that prepares the eigenvector of the operator and applies the Quantum Phase Estimation algorithm.\"\"\"\n",
    "    input_circuit = qpe_circuit(operator, eigenvector, apply_qpe=False)\n",
    "    circuit = qpe_circuit(operator, eigenvector)\n",
    "    display(Markdown(f\"# {title}\"))\n",
    "    display(circuit.draw('mpl'))\n",
    "    display(Markdown(\"Input state: \" + markdown_statevector(run_statevector(input_circuit))))\n",
    "    display(Markdown(\"Output state: \" + markdown_statevector(run_statevector(circuit))))\n",
    "\n",
    "# Show one example.\n",
    "z_circuit = qpe_circuit(Y, y1)\n",
    "display(Markdown(\"# Sample circuit for $Z$\"))\n",
    "display(z_circuit.draw('mpl'))"
   ]
  },
  {
   "cell_type": "markdown",
   "metadata": {},
   "source": [
    "## Examples\n",
    "\n",
    "Below are some example, using the Z and Y operators. \n",
    "First we give a summary table showing the results of the QPE algorithm for each eigenvector of each operator.\n",
    "Following that is a detailed version of eac eigenvector for each operator, showing the circuit and the results."
   ]
  },
  {
   "cell_type": "code",
   "execution_count": 65,
   "metadata": {},
   "outputs": [
    {
     "data": {
      "text/markdown": [
       "# Phase Estimation Examples"
      ],
      "text/plain": [
       "<IPython.core.display.Markdown object>"
      ]
     },
     "metadata": {},
     "output_type": "display_data"
    },
    {
     "data": {
      "text/markdown": [
       "| Operator | Input statevector | Output statevector |\n",
       "| --- | --- | --- |\n",
       "| $$Z$$ | $$ \\|001\\rangle$$ | $$ \\|101\\rangle$$ |\n",
       "| $$Z$$ | $$ \\|000\\rangle$$ | $$ \\|000\\rangle$$ |\n",
       "| $$Y$$ | $$\\frac{\\sqrt{2}}{2} \\|000\\rangle- \\frac{\\sqrt{2} i}{2} \\|001\\rangle$$ | $$\\frac{\\sqrt{2}}{2} \\|100\\rangle- \\frac{\\sqrt{2} i}{2} \\|101\\rangle$$ |\n",
       "| $$Y$$ | $$\\frac{\\sqrt{2}}{2} \\|000\\rangle+\\frac{\\sqrt{2} i}{2} \\|001\\rangle$$ | $$\\frac{\\sqrt{2}}{2} \\|000\\rangle+\\frac{\\sqrt{2} i}{2} \\|001\\rangle$$ |\n"
      ],
      "text/plain": [
       "<IPython.core.display.Markdown object>"
      ]
     },
     "metadata": {},
     "output_type": "display_data"
    }
   ],
   "source": [
    "data = [\n",
    "    {'name': '$Z$', 'operator': Z, 'eigenvector': z0},\n",
    "    {'name': '$Z$', 'operator': Z, 'eigenvector': z1},\n",
    "    {'name': '$Y$', 'operator': Y, 'eigenvector': y0},\n",
    "    {'name': '$Y$', 'operator': Y, 'eigenvector': y1},\n",
    "]\n",
    "\n",
    "table = \"| Operator | Input statevector | Output statevector |\\n\"\n",
    "table += \"| --- | --- | --- |\\n\"\n",
    "for d in data:\n",
    "    name = d['name']\n",
    "    operator = d['operator']\n",
    "    eigenvector = d['eigenvector']\n",
    "    input_statevector = markdown_table_statevector(run_statevector(qpe_circuit(operator, eigenvector, apply_qpe=False)))\n",
    "    output_statevector = markdown_table_statevector(run_statevector(qpe_circuit(operator, eigenvector)))\n",
    "    table += f\"| ${name}$ | {input_statevector} | {output_statevector} |\\n\"\n",
    "display(Markdown(\"# Phase Estimation Examples\"))\n",
    "display(Markdown(table))"
   ]
  },
  {
   "cell_type": "code",
   "execution_count": 68,
   "metadata": {},
   "outputs": [
    {
     "data": {
      "text/markdown": [
       "# Z operator with eigenvector $z_0 = |1\\rangle$, eigenvalue -1"
      ],
      "text/plain": [
       "<IPython.core.display.Markdown object>"
      ]
     },
     "metadata": {},
     "output_type": "display_data"
    },
    {
     "data": {
      "image/png": "[encoded data removed]",
      "text/plain": [
       "<Figure size 454.719x284.278 with 1 Axes>"
      ]
     },
     "metadata": {},
     "output_type": "display_data"
    },
    {
     "data": {
      "text/markdown": [
       "Input state: $$ |001\\rangle$$"
      ],
      "text/plain": [
       "<IPython.core.display.Markdown object>"
      ]
     },
     "metadata": {},
     "output_type": "display_data"
    },
    {
     "data": {
      "text/markdown": [
       "Output state: $$ |101\\rangle$$"
      ],
      "text/plain": [
       "<IPython.core.display.Markdown object>"
      ]
     },
     "metadata": {},
     "output_type": "display_data"
    }
   ],
   "source": [
    "display_qpe_circuit(Z, z0, \"Z operator with eigenvector $z_0 = |1\\\\rangle$, eigenvalue -1\")"
   ]
  },
  {
   "cell_type": "code",
   "execution_count": 69,
   "metadata": {},
   "outputs": [
    {
     "data": {
      "text/markdown": [
       "# Z operator with eigenvector $z_1 = |0\\rangle$, eigenvalue +1"
      ],
      "text/plain": [
       "<IPython.core.display.Markdown object>"
      ]
     },
     "metadata": {},
     "output_type": "display_data"
    },
    {
     "data": {
      "image/png": "[encoded data removed]",
      "text/plain": [
       "<Figure size 454.719x284.278 with 1 Axes>"
      ]
     },
     "metadata": {},
     "output_type": "display_data"
    },
    {
     "data": {
      "text/markdown": [
       "Input state: $$ |000\\rangle$$"
      ],
      "text/plain": [
       "<IPython.core.display.Markdown object>"
      ]
     },
     "metadata": {},
     "output_type": "display_data"
    },
    {
     "data": {
      "text/markdown": [
       "Output state: $$ |000\\rangle$$"
      ],
      "text/plain": [
       "<IPython.core.display.Markdown object>"
      ]
     },
     "metadata": {},
     "output_type": "display_data"
    }
   ],
   "source": [
    "display_qpe_circuit(Z, z1, \"Z operator with eigenvector $z_1 = |0\\\\rangle$, eigenvalue +1\")"
   ]
  },
  {
   "cell_type": "code",
   "execution_count": 70,
   "metadata": {},
   "outputs": [
    {
     "data": {
      "text/markdown": [
       "# Y operator with eigenvector $y_0 = \\frac{1}{\\sqrt{2}}(|0\\rangle-i|1\\rangle)$, eigenvalue -1"
      ],
      "text/plain": [
       "<IPython.core.display.Markdown object>"
      ]
     },
     "metadata": {},
     "output_type": "display_data"
    },
    {
     "data": {
      "image/png": "[encoded data removed]",
      "text/plain": [
       "<Figure size 454.719x284.278 with 1 Axes>"
      ]
     },
     "metadata": {},
     "output_type": "display_data"
    },
    {
     "data": {
      "text/markdown": [
       "Input state: $$\\frac{\\sqrt{2}}{2} |000\\rangle- \\frac{\\sqrt{2} i}{2} |001\\rangle$$"
      ],
      "text/plain": [
       "<IPython.core.display.Markdown object>"
      ]
     },
     "metadata": {},
     "output_type": "display_data"
    },
    {
     "data": {
      "text/markdown": [
       "Output state: $$\\frac{\\sqrt{2}}{2} |100\\rangle- \\frac{\\sqrt{2} i}{2} |101\\rangle$$"
      ],
      "text/plain": [
       "<IPython.core.display.Markdown object>"
      ]
     },
     "metadata": {},
     "output_type": "display_data"
    }
   ],
   "source": [
    "display_qpe_circuit(Y, y0, \"Y operator with eigenvector $y_0 = \\\\frac{1}{\\\\sqrt{2}}(|0\\\\rangle-i|1\\\\rangle)$, eigenvalue -1\")"
   ]
  },
  {
   "cell_type": "code",
   "execution_count": 71,
   "metadata": {},
   "outputs": [
    {
     "data": {
      "text/markdown": [
       "# Y operator with eigenvector $y_1 = \\frac{1}{\\sqrt{2}}(|0\\rangle+i|1\\rangle)$, eigenvalue +1"
      ],
      "text/plain": [
       "<IPython.core.display.Markdown object>"
      ]
     },
     "metadata": {},
     "output_type": "display_data"
    },
    {
     "data": {
      "image/png": "[encoded data removed]",
      "text/plain": [
       "<Figure size 454.719x284.278 with 1 Axes>"
      ]
     },
     "metadata": {},
     "output_type": "display_data"
    },
    {
     "data": {
      "text/markdown": [
       "Input state: $$\\frac{\\sqrt{2}}{2} |000\\rangle+\\frac{\\sqrt{2} i}{2} |001\\rangle$$"
      ],
      "text/plain": [
       "<IPython.core.display.Markdown object>"
      ]
     },
     "metadata": {},
     "output_type": "display_data"
    },
    {
     "data": {
      "text/markdown": [
       "Output state: $$\\frac{\\sqrt{2}}{2} |000\\rangle+\\frac{\\sqrt{2} i}{2} |001\\rangle$$"
      ],
      "text/plain": [
       "<IPython.core.display.Markdown object>"
      ]
     },
     "metadata": {},
     "output_type": "display_data"
    }
   ],
   "source": [
    "display_qpe_circuit(Y, y1, \"Y operator with eigenvector $y_1 = \\\\frac{1}{\\\\sqrt{2}}(|0\\\\rangle+i|1\\\\rangle)$, eigenvalue +1\")"
   ]
  }
 ],
 "metadata": {
  "kernelspec": {
   "display_name": "venv",
   "language": "python",
   "name": "python3"
  },
  "language_info": {
   "codemirror_mode": {
    "name": "ipython",
    "version": 3
   },
   "file_extension": ".py",
   "mimetype": "text/x-python",
   "name": "python",
   "nbconvert_exporter": "python",
   "pygments_lexer": "ipython3",
   "version": "3.10.12"
  }
 },
 "nbformat": 4,
 "nbformat_minor": 2
}
