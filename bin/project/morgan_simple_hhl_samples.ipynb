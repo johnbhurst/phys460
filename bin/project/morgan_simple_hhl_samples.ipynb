{
 "cells": [
  {
   "cell_type": "markdown",
   "metadata": {},
   "source": [
    "# Simple HHL\n",
    "\n",
    "This notebook demonstrates the simplest variant of HHL from Jack Morgan's code, with sampling to observe the actual output estimate of $x$.\n",
    "\n",
    "* [Harrow, Hassidm, Lloyd](https://journals.aps.org/prl/abstract/10.1103/PhysRevLett.103.150502)\n",
    "* [Lee, Joo, Lee](https://www.nature.com/articles/s41598-019-41324-9)\n",
    "* [Morgan, Ghysels, Mohamadbagherpoor](https://arxiv.org/abs/2404.10103)\n",
    "* [Jack Morgan's GitHub repository](https://github.com/jackhmorgan/Enhanced-Hybrid-HHL)."
   ]
  },
  {
   "cell_type": "code",
   "execution_count": 1,
   "metadata": {},
   "outputs": [],
   "source": [
    "import numpy as np\n",
    "from qiskit import ClassicalRegister, QuantumCircuit, QuantumRegister, transpile\n",
    "from qiskit.circuit.library import ExactReciprocal, HamiltonianGate, PhaseEstimation, StatePreparation\n",
    "from qiskit.quantum_info import Statevector\n",
    "from qiskit_aer import AerSimulator"
   ]
  },
  {
   "cell_type": "code",
   "execution_count": 14,
   "metadata": {},
   "outputs": [
    {
     "name": "stdout",
     "output_type": "stream",
     "text": [
      "3.349666139719809\n"
     ]
    }
   ],
   "source": [
    "# Problem setup: Note here that λ is a parameter for the 2x2 problem; the eigenvalues are 1-λ and λ.\n",
    "λ = 1/4\n",
    "# λ = 0.97\n",
    "# LJL problem:\n",
    "A = np.array([[ 1/2 , λ-1/2],[λ-1/2,  1/2 ]])\n",
    "b = np.array([[1.], [0.]])\n",
    "maxλ = 1\n",
    "# ZMW problem:\n",
    "# A = np.array([[1, -1/3],[-1/3, 1]])\n",
    "# b = np.array([[0], [1]])\n",
    "# maxλ = 4/3\n",
    "\n",
    "# Parameters of HHL circuit:\n",
    "π = np.pi\n",
    "num_clock_qubits = 3\n",
    "hamiltonian_scale = abs((0.5-2**-num_clock_qubits)/maxλ)\n",
    "inversion_scale = 2*2**-num_clock_qubits\n",
    "\n",
    "# Components of HHL circuit:\n",
    "state_preparation = StatePreparation(Statevector(b))\n",
    "hamiltonian_simulation = HamiltonianGate(A, -2 * π * hamiltonian_scale)\n",
    "qpe = PhaseEstimation(num_clock_qubits, hamiltonian_simulation)\n",
    "eigenvalue_inversion = ExactReciprocal(num_clock_qubits, inversion_scale, neg_vals=True)\n",
    "\n",
    "# Build circuit:\n",
    "flag = QuantumRegister(1)\n",
    "clock_reg = QuantumRegister(num_clock_qubits, \"clock\")\n",
    "b_reg = QuantumRegister(qpe.num_qubits - num_clock_qubits, \"b\")\n",
    "c_reg = ClassicalRegister(1, \"c1\")\n",
    "circuit = QuantumCircuit(flag, clock_reg, b_reg, c_reg)\n",
    "circuit.append(state_preparation, b_reg)\n",
    "circuit.append(qpe, clock_reg[:] + b_reg[:])\n",
    "circuit.append(eigenvalue_inversion, clock_reg[::-1]+[flag[0]])\n",
    "circuit.measure(0, 0)\n",
    "with circuit.if_test((0,1)) as passed:\n",
    "    circuit.append(qpe.inverse(), clock_reg[:] + b_reg[:])\n",
    "num_b_qubits = int(np.log2(b.size))\n",
    "c2_reg = ClassicalRegister(1, \"c2\")\n",
    "circuit.add_register(c2_reg)\n",
    "with circuit.if_test((0,1)) as passed:\n",
    "    circuit.measure(-1, c2_reg[0])\n",
    "\n",
    "# display(circuit.draw(output='mpl'))\n",
    "\n",
    "backend = AerSimulator()\n",
    "transpiled_circuit = transpile(circuit, backend)\n",
    "results = []\n",
    "for _ in range(100):\n",
    "    job = backend.run(transpiled_circuit)\n",
    "    counts = job.result().get_counts()\n",
    "    # print(counts)\n",
    "    result = counts['0 1']/counts['1 1']\n",
    "    results.append(result)\n",
    "\n",
    "print(np.average(results))"
   ]
  }
 ],
 "metadata": {
  "kernelspec": {
   "display_name": "venv",
   "language": "python",
   "name": "python3"
  },
  "language_info": {
   "codemirror_mode": {
    "name": "ipython",
    "version": 3
   },
   "file_extension": ".py",
   "mimetype": "text/x-python",
   "name": "python",
   "nbconvert_exporter": "python",
   "pygments_lexer": "ipython3",
   "version": "3.10.12"
  }
 },
 "nbformat": 4,
 "nbformat_minor": 2
}
